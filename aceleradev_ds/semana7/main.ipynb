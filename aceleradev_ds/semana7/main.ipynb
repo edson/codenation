{
 "cells": [
  {
   "cell_type": "markdown",
   "metadata": {},
   "source": [
    "# Desafio 6\n",
    "\n",
    "Neste desafio, vamos praticar _feature engineering_, um dos processos mais importantes e trabalhosos de ML. Utilizaremos o _data set_ [Countries of the world](https://www.kaggle.com/fernandol/countries-of-the-world), que contém dados sobre os 227 países do mundo com informações sobre tamanho da população, área, imigração e setores de produção.\n",
    "\n",
    "> Obs.: Por favor, não modifique o nome das funções de resposta."
   ]
  },
  {
   "cell_type": "markdown",
   "metadata": {},
   "source": [
    "## _Setup_ geral"
   ]
  },
  {
   "cell_type": "code",
   "execution_count": 526,
   "metadata": {},
   "outputs": [],
   "source": [
    "import pandas as pd\n",
    "import numpy as np\n",
    "import seaborn as sns\n",
    "import sklearn as sk\n",
    "\n",
    "from sklearn.impute import SimpleImputer\n",
    "from sklearn.pipeline import Pipeline\n",
    "from sklearn.compose import (ColumnTransformer, make_column_selector as selector)\n",
    "from sklearn.preprocessing import (\n",
    "    OneHotEncoder, Binarizer, KBinsDiscretizer,\n",
    "    MinMaxScaler, StandardScaler\n",
    ")\n",
    "from sklearn.datasets import load_digits, fetch_20newsgroups\n",
    "from sklearn.feature_extraction.text import (\n",
    "    CountVectorizer, TfidfTransformer, TfidfVectorizer\n",
    ")"
   ]
  },
  {
   "cell_type": "code",
   "execution_count": 527,
   "metadata": {},
   "outputs": [],
   "source": [
    "# Algumas configurações para o matplotlib.\n",
    "#%matplotlib inline\n",
    "\n",
    "from IPython.core.pylabtools import figsize\n",
    "\n",
    "\n",
    "figsize(12, 8)\n",
    "\n",
    "sns.set()"
   ]
  },
  {
   "cell_type": "code",
   "execution_count": 528,
   "metadata": {
    "scrolled": false
   },
   "outputs": [],
   "source": [
    "countries = pd.read_csv(\"countries.csv\")"
   ]
  },
  {
   "cell_type": "code",
   "execution_count": 529,
   "metadata": {},
   "outputs": [
    {
     "output_type": "execute_result",
     "data": {
      "text/plain": "           Country                               Region  Population     Area  \\\n0     Afghanistan         ASIA (EX. NEAR EAST)             31056997   647500   \n1         Albania   EASTERN EUROPE                          3581655    28748   \n2         Algeria   NORTHERN AFRICA                        32930091  2381740   \n3  American Samoa   OCEANIA                                   57794      199   \n4         Andorra   WESTERN EUROPE                            71201      468   \n\n  Pop_density Coastline_ratio Net_migration Infant_mortality      GDP  \\\n0        48,0            0,00         23,06           163,07    700.0   \n1       124,6            1,26         -4,93            21,52   4500.0   \n2        13,8            0,04         -0,39               31   6000.0   \n3       290,4           58,29        -20,71             9,27   8000.0   \n4       152,1            0,00           6,6             4,05  19000.0   \n\n  Literacy Phones_per_1000 Arable Crops  Other Climate Birthrate Deathrate  \\\n0     36,0             3,2  12,13  0,22  87,65       1      46,6     20,34   \n1     86,5            71,2  21,09  4,42  74,49       3     15,11      5,22   \n2     70,0            78,1   3,22  0,25  96,53       1     17,14      4,61   \n3     97,0           259,5     10    15     75       2     22,46      3,27   \n4    100,0           497,2   2,22     0  97,78       3      8,71      6,25   \n\n  Agriculture Industry Service  \n0        0,38     0,24    0,38  \n1       0,232    0,188   0,579  \n2       0,101      0,6   0,298  \n3         NaN      NaN     NaN  \n4         NaN      NaN     NaN  ",
      "text/html": "<div>\n<style scoped>\n    .dataframe tbody tr th:only-of-type {\n        vertical-align: middle;\n    }\n\n    .dataframe tbody tr th {\n        vertical-align: top;\n    }\n\n    .dataframe thead th {\n        text-align: right;\n    }\n</style>\n<table border=\"1\" class=\"dataframe\">\n  <thead>\n    <tr style=\"text-align: right;\">\n      <th></th>\n      <th>Country</th>\n      <th>Region</th>\n      <th>Population</th>\n      <th>Area</th>\n      <th>Pop_density</th>\n      <th>Coastline_ratio</th>\n      <th>Net_migration</th>\n      <th>Infant_mortality</th>\n      <th>GDP</th>\n      <th>Literacy</th>\n      <th>Phones_per_1000</th>\n      <th>Arable</th>\n      <th>Crops</th>\n      <th>Other</th>\n      <th>Climate</th>\n      <th>Birthrate</th>\n      <th>Deathrate</th>\n      <th>Agriculture</th>\n      <th>Industry</th>\n      <th>Service</th>\n    </tr>\n  </thead>\n  <tbody>\n    <tr>\n      <th>0</th>\n      <td>Afghanistan</td>\n      <td>ASIA (EX. NEAR EAST)</td>\n      <td>31056997</td>\n      <td>647500</td>\n      <td>48,0</td>\n      <td>0,00</td>\n      <td>23,06</td>\n      <td>163,07</td>\n      <td>700.0</td>\n      <td>36,0</td>\n      <td>3,2</td>\n      <td>12,13</td>\n      <td>0,22</td>\n      <td>87,65</td>\n      <td>1</td>\n      <td>46,6</td>\n      <td>20,34</td>\n      <td>0,38</td>\n      <td>0,24</td>\n      <td>0,38</td>\n    </tr>\n    <tr>\n      <th>1</th>\n      <td>Albania</td>\n      <td>EASTERN EUROPE</td>\n      <td>3581655</td>\n      <td>28748</td>\n      <td>124,6</td>\n      <td>1,26</td>\n      <td>-4,93</td>\n      <td>21,52</td>\n      <td>4500.0</td>\n      <td>86,5</td>\n      <td>71,2</td>\n      <td>21,09</td>\n      <td>4,42</td>\n      <td>74,49</td>\n      <td>3</td>\n      <td>15,11</td>\n      <td>5,22</td>\n      <td>0,232</td>\n      <td>0,188</td>\n      <td>0,579</td>\n    </tr>\n    <tr>\n      <th>2</th>\n      <td>Algeria</td>\n      <td>NORTHERN AFRICA</td>\n      <td>32930091</td>\n      <td>2381740</td>\n      <td>13,8</td>\n      <td>0,04</td>\n      <td>-0,39</td>\n      <td>31</td>\n      <td>6000.0</td>\n      <td>70,0</td>\n      <td>78,1</td>\n      <td>3,22</td>\n      <td>0,25</td>\n      <td>96,53</td>\n      <td>1</td>\n      <td>17,14</td>\n      <td>4,61</td>\n      <td>0,101</td>\n      <td>0,6</td>\n      <td>0,298</td>\n    </tr>\n    <tr>\n      <th>3</th>\n      <td>American Samoa</td>\n      <td>OCEANIA</td>\n      <td>57794</td>\n      <td>199</td>\n      <td>290,4</td>\n      <td>58,29</td>\n      <td>-20,71</td>\n      <td>9,27</td>\n      <td>8000.0</td>\n      <td>97,0</td>\n      <td>259,5</td>\n      <td>10</td>\n      <td>15</td>\n      <td>75</td>\n      <td>2</td>\n      <td>22,46</td>\n      <td>3,27</td>\n      <td>NaN</td>\n      <td>NaN</td>\n      <td>NaN</td>\n    </tr>\n    <tr>\n      <th>4</th>\n      <td>Andorra</td>\n      <td>WESTERN EUROPE</td>\n      <td>71201</td>\n      <td>468</td>\n      <td>152,1</td>\n      <td>0,00</td>\n      <td>6,6</td>\n      <td>4,05</td>\n      <td>19000.0</td>\n      <td>100,0</td>\n      <td>497,2</td>\n      <td>2,22</td>\n      <td>0</td>\n      <td>97,78</td>\n      <td>3</td>\n      <td>8,71</td>\n      <td>6,25</td>\n      <td>NaN</td>\n      <td>NaN</td>\n      <td>NaN</td>\n    </tr>\n  </tbody>\n</table>\n</div>"
     },
     "metadata": {},
     "execution_count": 529
    }
   ],
   "source": [
    "new_column_names = [\n",
    "    \"Country\", \"Region\", \"Population\", \"Area\", \"Pop_density\", \"Coastline_ratio\",\n",
    "    \"Net_migration\", \"Infant_mortality\", \"GDP\", \"Literacy\", \"Phones_per_1000\",\n",
    "    \"Arable\", \"Crops\", \"Other\", \"Climate\", \"Birthrate\", \"Deathrate\", \"Agriculture\",\n",
    "    \"Industry\", \"Service\"\n",
    "]\n",
    "\n",
    "countries.columns = new_column_names\n",
    "\n",
    "countries.head(5)"
   ]
  },
  {
   "cell_type": "markdown",
   "metadata": {},
   "source": [
    "## Observações\n",
    "\n",
    "Esse _data set_ ainda precisa de alguns ajustes iniciais. Primeiro, note que as variáveis numéricas estão usando vírgula como separador decimal e estão codificadas como strings. Corrija isso antes de continuar: transforme essas variáveis em numéricas adequadamente.\n",
    "\n",
    "Além disso, as variáveis `Country` e `Region` possuem espaços a mais no começo e no final da string. Você pode utilizar o método `str.strip()` para remover esses espaços."
   ]
  },
  {
   "cell_type": "markdown",
   "metadata": {},
   "source": [
    "## Inicia sua análise a partir daqui"
   ]
  },
  {
   "cell_type": "code",
   "execution_count": 530,
   "metadata": {},
   "outputs": [
    {
     "output_type": "stream",
     "name": "stdout",
     "text": "<class 'pandas.core.frame.DataFrame'>\nRangeIndex: 227 entries, 0 to 226\nData columns (total 20 columns):\n #   Column            Non-Null Count  Dtype  \n---  ------            --------------  -----  \n 0   Country           227 non-null    object \n 1   Region            227 non-null    object \n 2   Population        227 non-null    int64  \n 3   Area              227 non-null    int64  \n 4   Pop_density       227 non-null    object \n 5   Coastline_ratio   227 non-null    object \n 6   Net_migration     224 non-null    object \n 7   Infant_mortality  224 non-null    object \n 8   GDP               226 non-null    float64\n 9   Literacy          209 non-null    object \n 10  Phones_per_1000   223 non-null    object \n 11  Arable            225 non-null    object \n 12  Crops             225 non-null    object \n 13  Other             225 non-null    object \n 14  Climate           205 non-null    object \n 15  Birthrate         224 non-null    object \n 16  Deathrate         223 non-null    object \n 17  Agriculture       212 non-null    object \n 18  Industry          211 non-null    object \n 19  Service           212 non-null    object \ndtypes: float64(1), int64(2), object(17)\nmemory usage: 35.6+ KB\n"
    }
   ],
   "source": [
    "# Sua análise começa aqui.\n",
    "countries.info()"
   ]
  },
  {
   "cell_type": "code",
   "execution_count": 531,
   "metadata": {},
   "outputs": [
    {
     "output_type": "execute_result",
     "data": {
      "text/plain": "2      111\n3       48\n1       29\n1,5      8\n4        6\n2,5      3\nName: Climate, dtype: int64"
     },
     "metadata": {},
     "execution_count": 531
    }
   ],
   "source": [
    "#Frequencia de valores unicos\n",
    "countries['Climate'].value_counts()"
   ]
  },
  {
   "cell_type": "code",
   "execution_count": 532,
   "metadata": {},
   "outputs": [
    {
     "output_type": "execute_result",
     "data": {
      "text/plain": "     Pop_density  Coastline_ratio  Net_migration  Infant_mortality  Literacy  \\\n0           48.0             0.00          23.06            163.07      36.0   \n1          124.6             1.26          -4.93             21.52      86.5   \n2           13.8             0.04          -0.39             31.00      70.0   \n3          290.4            58.29         -20.71              9.27      97.0   \n4          152.1             0.00           6.60              4.05     100.0   \n..           ...              ...            ...               ...       ...   \n222        419.9             0.00           2.98             19.62       NaN   \n223          1.0             0.42            NaN               NaN       NaN   \n224         40.6             0.36           0.00             61.50      50.2   \n225         15.3             0.00           0.00             88.29      80.6   \n226         31.3             0.00           0.00             67.69      90.7   \n\n     Phones_per_1000  Arable  Crops  Other  Climate  Birthrate  Deathrate  \\\n0                3.2   12.13   0.22  87.65      1.0      46.60      20.34   \n1               71.2   21.09   4.42  74.49      3.0      15.11       5.22   \n2               78.1    3.22   0.25  96.53      1.0      17.14       4.61   \n3              259.5   10.00  15.00  75.00      2.0      22.46       3.27   \n4              497.2    2.22   0.00  97.78      3.0       8.71       6.25   \n..               ...     ...    ...    ...      ...        ...        ...   \n222            145.2   16.90  18.97  64.13      3.0      31.67       3.92   \n223              NaN    0.02   0.00  99.98      1.0        NaN        NaN   \n224             37.2    2.78   0.24  96.98      1.0      42.89       8.30   \n225              8.2    7.08   0.03  92.90      2.0      41.00      19.93   \n226             26.8    8.32   0.34  91.34      2.0      28.01      21.84   \n\n     Agriculture  Industry  Service  \n0          0.380     0.240    0.380  \n1          0.232     0.188    0.579  \n2          0.101     0.600    0.298  \n3            NaN       NaN      NaN  \n4            NaN       NaN      NaN  \n..           ...       ...      ...  \n222        0.090     0.280    0.630  \n223          NaN       NaN    0.400  \n224        0.135     0.472    0.393  \n225        0.220     0.290    0.489  \n226        0.179     0.243    0.579  \n\n[227 rows x 15 columns]",
      "text/html": "<div>\n<style scoped>\n    .dataframe tbody tr th:only-of-type {\n        vertical-align: middle;\n    }\n\n    .dataframe tbody tr th {\n        vertical-align: top;\n    }\n\n    .dataframe thead th {\n        text-align: right;\n    }\n</style>\n<table border=\"1\" class=\"dataframe\">\n  <thead>\n    <tr style=\"text-align: right;\">\n      <th></th>\n      <th>Pop_density</th>\n      <th>Coastline_ratio</th>\n      <th>Net_migration</th>\n      <th>Infant_mortality</th>\n      <th>Literacy</th>\n      <th>Phones_per_1000</th>\n      <th>Arable</th>\n      <th>Crops</th>\n      <th>Other</th>\n      <th>Climate</th>\n      <th>Birthrate</th>\n      <th>Deathrate</th>\n      <th>Agriculture</th>\n      <th>Industry</th>\n      <th>Service</th>\n    </tr>\n  </thead>\n  <tbody>\n    <tr>\n      <th>0</th>\n      <td>48.0</td>\n      <td>0.00</td>\n      <td>23.06</td>\n      <td>163.07</td>\n      <td>36.0</td>\n      <td>3.2</td>\n      <td>12.13</td>\n      <td>0.22</td>\n      <td>87.65</td>\n      <td>1.0</td>\n      <td>46.60</td>\n      <td>20.34</td>\n      <td>0.380</td>\n      <td>0.240</td>\n      <td>0.380</td>\n    </tr>\n    <tr>\n      <th>1</th>\n      <td>124.6</td>\n      <td>1.26</td>\n      <td>-4.93</td>\n      <td>21.52</td>\n      <td>86.5</td>\n      <td>71.2</td>\n      <td>21.09</td>\n      <td>4.42</td>\n      <td>74.49</td>\n      <td>3.0</td>\n      <td>15.11</td>\n      <td>5.22</td>\n      <td>0.232</td>\n      <td>0.188</td>\n      <td>0.579</td>\n    </tr>\n    <tr>\n      <th>2</th>\n      <td>13.8</td>\n      <td>0.04</td>\n      <td>-0.39</td>\n      <td>31.00</td>\n      <td>70.0</td>\n      <td>78.1</td>\n      <td>3.22</td>\n      <td>0.25</td>\n      <td>96.53</td>\n      <td>1.0</td>\n      <td>17.14</td>\n      <td>4.61</td>\n      <td>0.101</td>\n      <td>0.600</td>\n      <td>0.298</td>\n    </tr>\n    <tr>\n      <th>3</th>\n      <td>290.4</td>\n      <td>58.29</td>\n      <td>-20.71</td>\n      <td>9.27</td>\n      <td>97.0</td>\n      <td>259.5</td>\n      <td>10.00</td>\n      <td>15.00</td>\n      <td>75.00</td>\n      <td>2.0</td>\n      <td>22.46</td>\n      <td>3.27</td>\n      <td>NaN</td>\n      <td>NaN</td>\n      <td>NaN</td>\n    </tr>\n    <tr>\n      <th>4</th>\n      <td>152.1</td>\n      <td>0.00</td>\n      <td>6.60</td>\n      <td>4.05</td>\n      <td>100.0</td>\n      <td>497.2</td>\n      <td>2.22</td>\n      <td>0.00</td>\n      <td>97.78</td>\n      <td>3.0</td>\n      <td>8.71</td>\n      <td>6.25</td>\n      <td>NaN</td>\n      <td>NaN</td>\n      <td>NaN</td>\n    </tr>\n    <tr>\n      <th>...</th>\n      <td>...</td>\n      <td>...</td>\n      <td>...</td>\n      <td>...</td>\n      <td>...</td>\n      <td>...</td>\n      <td>...</td>\n      <td>...</td>\n      <td>...</td>\n      <td>...</td>\n      <td>...</td>\n      <td>...</td>\n      <td>...</td>\n      <td>...</td>\n      <td>...</td>\n    </tr>\n    <tr>\n      <th>222</th>\n      <td>419.9</td>\n      <td>0.00</td>\n      <td>2.98</td>\n      <td>19.62</td>\n      <td>NaN</td>\n      <td>145.2</td>\n      <td>16.90</td>\n      <td>18.97</td>\n      <td>64.13</td>\n      <td>3.0</td>\n      <td>31.67</td>\n      <td>3.92</td>\n      <td>0.090</td>\n      <td>0.280</td>\n      <td>0.630</td>\n    </tr>\n    <tr>\n      <th>223</th>\n      <td>1.0</td>\n      <td>0.42</td>\n      <td>NaN</td>\n      <td>NaN</td>\n      <td>NaN</td>\n      <td>NaN</td>\n      <td>0.02</td>\n      <td>0.00</td>\n      <td>99.98</td>\n      <td>1.0</td>\n      <td>NaN</td>\n      <td>NaN</td>\n      <td>NaN</td>\n      <td>NaN</td>\n      <td>0.400</td>\n    </tr>\n    <tr>\n      <th>224</th>\n      <td>40.6</td>\n      <td>0.36</td>\n      <td>0.00</td>\n      <td>61.50</td>\n      <td>50.2</td>\n      <td>37.2</td>\n      <td>2.78</td>\n      <td>0.24</td>\n      <td>96.98</td>\n      <td>1.0</td>\n      <td>42.89</td>\n      <td>8.30</td>\n      <td>0.135</td>\n      <td>0.472</td>\n      <td>0.393</td>\n    </tr>\n    <tr>\n      <th>225</th>\n      <td>15.3</td>\n      <td>0.00</td>\n      <td>0.00</td>\n      <td>88.29</td>\n      <td>80.6</td>\n      <td>8.2</td>\n      <td>7.08</td>\n      <td>0.03</td>\n      <td>92.90</td>\n      <td>2.0</td>\n      <td>41.00</td>\n      <td>19.93</td>\n      <td>0.220</td>\n      <td>0.290</td>\n      <td>0.489</td>\n    </tr>\n    <tr>\n      <th>226</th>\n      <td>31.3</td>\n      <td>0.00</td>\n      <td>0.00</td>\n      <td>67.69</td>\n      <td>90.7</td>\n      <td>26.8</td>\n      <td>8.32</td>\n      <td>0.34</td>\n      <td>91.34</td>\n      <td>2.0</td>\n      <td>28.01</td>\n      <td>21.84</td>\n      <td>0.179</td>\n      <td>0.243</td>\n      <td>0.579</td>\n    </tr>\n  </tbody>\n</table>\n<p>227 rows × 15 columns</p>\n</div>"
     },
     "metadata": {},
     "execution_count": 532
    }
   ],
   "source": [
    "#Colunas para correcao de tipo\n",
    "cols_to_float = [\"Pop_density\", \"Coastline_ratio\",\n",
    "    \"Net_migration\", \"Infant_mortality\", \"Literacy\", \"Phones_per_1000\",\n",
    "    \"Arable\", \"Crops\", \"Other\", \"Climate\", \"Birthrate\", \"Deathrate\", \"Agriculture\",\n",
    "    \"Industry\", \"Service\"]\n",
    "\n",
    "#Formas de conversao to_numeric\n",
    "#https://pandas.pydata.org/pandas-docs/stable/reference/api/pandas.to_numeric.html \n",
    "#countries[cols_to_float] = countries[cols_to_float].apply(pd.to_numeric)\n",
    "\n",
    "#astype\n",
    "#https://pandas.pydata.org/pandas-docs/stable/reference/api/pandas.DataFrame.astype.html\n",
    "#countries.Pop_density.str.replace(',','.').astype(float)\n",
    "\n",
    "countries[cols_to_float] = countries[cols_to_float].apply(lambda s: s.str.replace(',','.').astype(float))\n",
    "\n",
    "countries[cols_to_float]\n"
   ]
  },
  {
   "cell_type": "code",
   "execution_count": 533,
   "metadata": {},
   "outputs": [
    {
     "output_type": "stream",
     "name": "stdout",
     "text": "<class 'pandas.core.frame.DataFrame'>\nRangeIndex: 227 entries, 0 to 226\nData columns (total 20 columns):\n #   Column            Non-Null Count  Dtype  \n---  ------            --------------  -----  \n 0   Country           227 non-null    object \n 1   Region            227 non-null    object \n 2   Population        227 non-null    int64  \n 3   Area              227 non-null    int64  \n 4   Pop_density       227 non-null    float64\n 5   Coastline_ratio   227 non-null    float64\n 6   Net_migration     224 non-null    float64\n 7   Infant_mortality  224 non-null    float64\n 8   GDP               226 non-null    float64\n 9   Literacy          209 non-null    float64\n 10  Phones_per_1000   223 non-null    float64\n 11  Arable            225 non-null    float64\n 12  Crops             225 non-null    float64\n 13  Other             225 non-null    float64\n 14  Climate           205 non-null    float64\n 15  Birthrate         224 non-null    float64\n 16  Deathrate         223 non-null    float64\n 17  Agriculture       212 non-null    float64\n 18  Industry          211 non-null    float64\n 19  Service           212 non-null    float64\ndtypes: float64(16), int64(2), object(2)\nmemory usage: 35.6+ KB\n"
    }
   ],
   "source": [
    "countries.info()"
   ]
  },
  {
   "cell_type": "code",
   "execution_count": 534,
   "metadata": {},
   "outputs": [
    {
     "output_type": "execute_result",
     "data": {
      "text/plain": "                   dtypes  total_nan      perc\nCountry            object          0  0.000000\nRegion             object          0  0.000000\nPopulation          int64          0  0.000000\nArea                int64          0  0.000000\nPop_density       float64          0  0.000000\nCoastline_ratio   float64          0  0.000000\nNet_migration     float64          3  0.013216\nInfant_mortality  float64          3  0.013216\nGDP               float64          1  0.004405\nLiteracy          float64         18  0.079295\nPhones_per_1000   float64          4  0.017621\nArable            float64          2  0.008811\nCrops             float64          2  0.008811\nOther             float64          2  0.008811\nClimate           float64         22  0.096916\nBirthrate         float64          3  0.013216\nDeathrate         float64          4  0.017621\nAgriculture       float64         15  0.066079\nIndustry          float64         16  0.070485\nService           float64         15  0.066079",
      "text/html": "<div>\n<style scoped>\n    .dataframe tbody tr th:only-of-type {\n        vertical-align: middle;\n    }\n\n    .dataframe tbody tr th {\n        vertical-align: top;\n    }\n\n    .dataframe thead th {\n        text-align: right;\n    }\n</style>\n<table border=\"1\" class=\"dataframe\">\n  <thead>\n    <tr style=\"text-align: right;\">\n      <th></th>\n      <th>dtypes</th>\n      <th>total_nan</th>\n      <th>perc</th>\n    </tr>\n  </thead>\n  <tbody>\n    <tr>\n      <th>Country</th>\n      <td>object</td>\n      <td>0</td>\n      <td>0.000000</td>\n    </tr>\n    <tr>\n      <th>Region</th>\n      <td>object</td>\n      <td>0</td>\n      <td>0.000000</td>\n    </tr>\n    <tr>\n      <th>Population</th>\n      <td>int64</td>\n      <td>0</td>\n      <td>0.000000</td>\n    </tr>\n    <tr>\n      <th>Area</th>\n      <td>int64</td>\n      <td>0</td>\n      <td>0.000000</td>\n    </tr>\n    <tr>\n      <th>Pop_density</th>\n      <td>float64</td>\n      <td>0</td>\n      <td>0.000000</td>\n    </tr>\n    <tr>\n      <th>Coastline_ratio</th>\n      <td>float64</td>\n      <td>0</td>\n      <td>0.000000</td>\n    </tr>\n    <tr>\n      <th>Net_migration</th>\n      <td>float64</td>\n      <td>3</td>\n      <td>0.013216</td>\n    </tr>\n    <tr>\n      <th>Infant_mortality</th>\n      <td>float64</td>\n      <td>3</td>\n      <td>0.013216</td>\n    </tr>\n    <tr>\n      <th>GDP</th>\n      <td>float64</td>\n      <td>1</td>\n      <td>0.004405</td>\n    </tr>\n    <tr>\n      <th>Literacy</th>\n      <td>float64</td>\n      <td>18</td>\n      <td>0.079295</td>\n    </tr>\n    <tr>\n      <th>Phones_per_1000</th>\n      <td>float64</td>\n      <td>4</td>\n      <td>0.017621</td>\n    </tr>\n    <tr>\n      <th>Arable</th>\n      <td>float64</td>\n      <td>2</td>\n      <td>0.008811</td>\n    </tr>\n    <tr>\n      <th>Crops</th>\n      <td>float64</td>\n      <td>2</td>\n      <td>0.008811</td>\n    </tr>\n    <tr>\n      <th>Other</th>\n      <td>float64</td>\n      <td>2</td>\n      <td>0.008811</td>\n    </tr>\n    <tr>\n      <th>Climate</th>\n      <td>float64</td>\n      <td>22</td>\n      <td>0.096916</td>\n    </tr>\n    <tr>\n      <th>Birthrate</th>\n      <td>float64</td>\n      <td>3</td>\n      <td>0.013216</td>\n    </tr>\n    <tr>\n      <th>Deathrate</th>\n      <td>float64</td>\n      <td>4</td>\n      <td>0.017621</td>\n    </tr>\n    <tr>\n      <th>Agriculture</th>\n      <td>float64</td>\n      <td>15</td>\n      <td>0.066079</td>\n    </tr>\n    <tr>\n      <th>Industry</th>\n      <td>float64</td>\n      <td>16</td>\n      <td>0.070485</td>\n    </tr>\n    <tr>\n      <th>Service</th>\n      <td>float64</td>\n      <td>15</td>\n      <td>0.066079</td>\n    </tr>\n  </tbody>\n</table>\n</div>"
     },
     "metadata": {},
     "execution_count": 534
    }
   ],
   "source": [
    "df_info_nan = pd.DataFrame({'dtypes': countries.dtypes,\n",
    "                            'total_nan': countries.isna().sum(), \n",
    "                            'perc': countries.isna().sum()/len(countries)})\n",
    "df_info_nan"
   ]
  },
  {
   "cell_type": "code",
   "execution_count": 535,
   "metadata": {},
   "outputs": [
    {
     "output_type": "execute_result",
     "data": {
      "text/plain": "                   Country                               Region  Population  \\\n78              Gibraltar   WESTERN EUROPE                            27928   \n80              Greenland   NORTHERN AMERICA                          56361   \n85               Guernsey   WESTERN EUROPE                            65409   \n134               Mayotte   SUB-SAHARAN AFRICA                       201234   \n140            Montserrat               LATIN AMER. & CARIB            9439   \n144                 Nauru   OCEANIA                                   13287   \n171          Saint Helena   SUB-SAHARAN AFRICA                         7502   \n174  St Pierre & Miquelon   NORTHERN AMERICA                           7026   \n177            San Marino   WESTERN EUROPE                            29251   \n221     Wallis and Futuna   OCEANIA                                   16025   \n223        Western Sahara   NORTHERN AFRICA                          273008   \n\n        Area  Pop_density  Coastline_ratio  Net_migration  Infant_mortality  \\\n78         7       3989.7           171.43           0.00              5.13   \n80   2166086          0.0             2.04          -8.37             15.82   \n85        78        838.6            64.10           3.84              4.71   \n134      374        538.1            49.52           6.78             62.40   \n140      102         92.5            39.22           0.00              7.35   \n144       21        632.7           142.86           0.00              9.95   \n171      413         18.2            14.53           0.00             19.00   \n174      242         29.0            49.59          -4.86              7.54   \n177       61        479.5             0.00          10.98              5.73   \n221      274         58.5            47.08            NaN               NaN   \n223   266000          1.0             0.42            NaN               NaN   \n\n         GDP  Literacy  Phones_per_1000  Arable  Crops   Other  Climate  \\\n78   17500.0       NaN            877.7    0.00    0.0  100.00      NaN   \n80   20000.0       NaN            448.9    0.00    0.0  100.00      1.0   \n85   20000.0       NaN            842.4     NaN    NaN     NaN      3.0   \n134   2600.0       NaN             49.7     NaN    NaN     NaN      2.0   \n140   3400.0      97.0              NaN   20.00    0.0   80.00      2.0   \n144   5000.0       NaN            143.0    0.00    0.0  100.00      2.0   \n171   2500.0      97.0            293.3   12.90    0.0   87.10      NaN   \n174   6900.0      99.0            683.2   13.04    0.0   86.96      NaN   \n177  34600.0      96.0            704.3   16.67    0.0   83.33      NaN   \n221   3700.0      50.0            118.6    5.00   25.0   70.00      2.0   \n223      NaN       NaN              NaN    0.02    0.0   99.98      1.0   \n\n     Birthrate  Deathrate  Agriculture  Industry  Service  \n78       10.74       9.31          NaN       NaN      NaN  \n80       15.93       7.84          NaN       NaN      NaN  \n85        8.81      10.01         0.03       0.1     0.87  \n134      40.95       7.70          NaN       NaN      NaN  \n140      17.59       7.10          NaN       NaN      NaN  \n144      24.76       6.70          NaN       NaN      NaN  \n171      12.13       6.53          NaN       NaN      NaN  \n174      13.52       6.83          NaN       NaN      NaN  \n177      10.02       8.17          NaN       NaN      NaN  \n221        NaN        NaN          NaN       NaN      NaN  \n223        NaN        NaN          NaN       NaN     0.40  ",
      "text/html": "<div>\n<style scoped>\n    .dataframe tbody tr th:only-of-type {\n        vertical-align: middle;\n    }\n\n    .dataframe tbody tr th {\n        vertical-align: top;\n    }\n\n    .dataframe thead th {\n        text-align: right;\n    }\n</style>\n<table border=\"1\" class=\"dataframe\">\n  <thead>\n    <tr style=\"text-align: right;\">\n      <th></th>\n      <th>Country</th>\n      <th>Region</th>\n      <th>Population</th>\n      <th>Area</th>\n      <th>Pop_density</th>\n      <th>Coastline_ratio</th>\n      <th>Net_migration</th>\n      <th>Infant_mortality</th>\n      <th>GDP</th>\n      <th>Literacy</th>\n      <th>Phones_per_1000</th>\n      <th>Arable</th>\n      <th>Crops</th>\n      <th>Other</th>\n      <th>Climate</th>\n      <th>Birthrate</th>\n      <th>Deathrate</th>\n      <th>Agriculture</th>\n      <th>Industry</th>\n      <th>Service</th>\n    </tr>\n  </thead>\n  <tbody>\n    <tr>\n      <th>78</th>\n      <td>Gibraltar</td>\n      <td>WESTERN EUROPE</td>\n      <td>27928</td>\n      <td>7</td>\n      <td>3989.7</td>\n      <td>171.43</td>\n      <td>0.00</td>\n      <td>5.13</td>\n      <td>17500.0</td>\n      <td>NaN</td>\n      <td>877.7</td>\n      <td>0.00</td>\n      <td>0.0</td>\n      <td>100.00</td>\n      <td>NaN</td>\n      <td>10.74</td>\n      <td>9.31</td>\n      <td>NaN</td>\n      <td>NaN</td>\n      <td>NaN</td>\n    </tr>\n    <tr>\n      <th>80</th>\n      <td>Greenland</td>\n      <td>NORTHERN AMERICA</td>\n      <td>56361</td>\n      <td>2166086</td>\n      <td>0.0</td>\n      <td>2.04</td>\n      <td>-8.37</td>\n      <td>15.82</td>\n      <td>20000.0</td>\n      <td>NaN</td>\n      <td>448.9</td>\n      <td>0.00</td>\n      <td>0.0</td>\n      <td>100.00</td>\n      <td>1.0</td>\n      <td>15.93</td>\n      <td>7.84</td>\n      <td>NaN</td>\n      <td>NaN</td>\n      <td>NaN</td>\n    </tr>\n    <tr>\n      <th>85</th>\n      <td>Guernsey</td>\n      <td>WESTERN EUROPE</td>\n      <td>65409</td>\n      <td>78</td>\n      <td>838.6</td>\n      <td>64.10</td>\n      <td>3.84</td>\n      <td>4.71</td>\n      <td>20000.0</td>\n      <td>NaN</td>\n      <td>842.4</td>\n      <td>NaN</td>\n      <td>NaN</td>\n      <td>NaN</td>\n      <td>3.0</td>\n      <td>8.81</td>\n      <td>10.01</td>\n      <td>0.03</td>\n      <td>0.1</td>\n      <td>0.87</td>\n    </tr>\n    <tr>\n      <th>134</th>\n      <td>Mayotte</td>\n      <td>SUB-SAHARAN AFRICA</td>\n      <td>201234</td>\n      <td>374</td>\n      <td>538.1</td>\n      <td>49.52</td>\n      <td>6.78</td>\n      <td>62.40</td>\n      <td>2600.0</td>\n      <td>NaN</td>\n      <td>49.7</td>\n      <td>NaN</td>\n      <td>NaN</td>\n      <td>NaN</td>\n      <td>2.0</td>\n      <td>40.95</td>\n      <td>7.70</td>\n      <td>NaN</td>\n      <td>NaN</td>\n      <td>NaN</td>\n    </tr>\n    <tr>\n      <th>140</th>\n      <td>Montserrat</td>\n      <td>LATIN AMER. &amp; CARIB</td>\n      <td>9439</td>\n      <td>102</td>\n      <td>92.5</td>\n      <td>39.22</td>\n      <td>0.00</td>\n      <td>7.35</td>\n      <td>3400.0</td>\n      <td>97.0</td>\n      <td>NaN</td>\n      <td>20.00</td>\n      <td>0.0</td>\n      <td>80.00</td>\n      <td>2.0</td>\n      <td>17.59</td>\n      <td>7.10</td>\n      <td>NaN</td>\n      <td>NaN</td>\n      <td>NaN</td>\n    </tr>\n    <tr>\n      <th>144</th>\n      <td>Nauru</td>\n      <td>OCEANIA</td>\n      <td>13287</td>\n      <td>21</td>\n      <td>632.7</td>\n      <td>142.86</td>\n      <td>0.00</td>\n      <td>9.95</td>\n      <td>5000.0</td>\n      <td>NaN</td>\n      <td>143.0</td>\n      <td>0.00</td>\n      <td>0.0</td>\n      <td>100.00</td>\n      <td>2.0</td>\n      <td>24.76</td>\n      <td>6.70</td>\n      <td>NaN</td>\n      <td>NaN</td>\n      <td>NaN</td>\n    </tr>\n    <tr>\n      <th>171</th>\n      <td>Saint Helena</td>\n      <td>SUB-SAHARAN AFRICA</td>\n      <td>7502</td>\n      <td>413</td>\n      <td>18.2</td>\n      <td>14.53</td>\n      <td>0.00</td>\n      <td>19.00</td>\n      <td>2500.0</td>\n      <td>97.0</td>\n      <td>293.3</td>\n      <td>12.90</td>\n      <td>0.0</td>\n      <td>87.10</td>\n      <td>NaN</td>\n      <td>12.13</td>\n      <td>6.53</td>\n      <td>NaN</td>\n      <td>NaN</td>\n      <td>NaN</td>\n    </tr>\n    <tr>\n      <th>174</th>\n      <td>St Pierre &amp; Miquelon</td>\n      <td>NORTHERN AMERICA</td>\n      <td>7026</td>\n      <td>242</td>\n      <td>29.0</td>\n      <td>49.59</td>\n      <td>-4.86</td>\n      <td>7.54</td>\n      <td>6900.0</td>\n      <td>99.0</td>\n      <td>683.2</td>\n      <td>13.04</td>\n      <td>0.0</td>\n      <td>86.96</td>\n      <td>NaN</td>\n      <td>13.52</td>\n      <td>6.83</td>\n      <td>NaN</td>\n      <td>NaN</td>\n      <td>NaN</td>\n    </tr>\n    <tr>\n      <th>177</th>\n      <td>San Marino</td>\n      <td>WESTERN EUROPE</td>\n      <td>29251</td>\n      <td>61</td>\n      <td>479.5</td>\n      <td>0.00</td>\n      <td>10.98</td>\n      <td>5.73</td>\n      <td>34600.0</td>\n      <td>96.0</td>\n      <td>704.3</td>\n      <td>16.67</td>\n      <td>0.0</td>\n      <td>83.33</td>\n      <td>NaN</td>\n      <td>10.02</td>\n      <td>8.17</td>\n      <td>NaN</td>\n      <td>NaN</td>\n      <td>NaN</td>\n    </tr>\n    <tr>\n      <th>221</th>\n      <td>Wallis and Futuna</td>\n      <td>OCEANIA</td>\n      <td>16025</td>\n      <td>274</td>\n      <td>58.5</td>\n      <td>47.08</td>\n      <td>NaN</td>\n      <td>NaN</td>\n      <td>3700.0</td>\n      <td>50.0</td>\n      <td>118.6</td>\n      <td>5.00</td>\n      <td>25.0</td>\n      <td>70.00</td>\n      <td>2.0</td>\n      <td>NaN</td>\n      <td>NaN</td>\n      <td>NaN</td>\n      <td>NaN</td>\n      <td>NaN</td>\n    </tr>\n    <tr>\n      <th>223</th>\n      <td>Western Sahara</td>\n      <td>NORTHERN AFRICA</td>\n      <td>273008</td>\n      <td>266000</td>\n      <td>1.0</td>\n      <td>0.42</td>\n      <td>NaN</td>\n      <td>NaN</td>\n      <td>NaN</td>\n      <td>NaN</td>\n      <td>NaN</td>\n      <td>0.02</td>\n      <td>0.0</td>\n      <td>99.98</td>\n      <td>1.0</td>\n      <td>NaN</td>\n      <td>NaN</td>\n      <td>NaN</td>\n      <td>NaN</td>\n      <td>0.40</td>\n    </tr>\n  </tbody>\n</table>\n</div>"
     },
     "metadata": {},
     "execution_count": 535
    }
   ],
   "source": [
    "#Listagem de linhas com pelo menos x colunas nan\n",
    "countries[countries.isna().sum(axis=1) > 3]"
   ]
  },
  {
   "cell_type": "code",
   "execution_count": 536,
   "metadata": {},
   "outputs": [],
   "source": [
    "#Trim com strip\n",
    "#https://pandas.pydata.org/pandas-docs/stable/reference/api/pandas.Series.str.strip.html\n",
    "\n",
    "cols_to_trim = [\"Country\", \"Region\",]\n",
    "countries[cols_to_trim] = countries[cols_to_trim].apply(lambda s: s.str.strip())\n"
   ]
  },
  {
   "cell_type": "markdown",
   "metadata": {},
   "source": [
    "## Questão 1\n",
    "\n",
    "Quais são as regiões (variável `Region`) presentes no _data set_? Retorne uma lista com as regiões únicas do _data set_ com os espaços à frente e atrás da string removidos (mas mantenha pontuação: ponto, hífen etc) e ordenadas em ordem alfabética."
   ]
  },
  {
   "cell_type": "code",
   "execution_count": 537,
   "metadata": {},
   "outputs": [
    {
     "output_type": "execute_result",
     "data": {
      "text/plain": "array(['ASIA (EX. NEAR EAST)', 'EASTERN EUROPE', 'NORTHERN AFRICA',\n       'OCEANIA', 'WESTERN EUROPE', 'SUB-SAHARAN AFRICA',\n       'LATIN AMER. & CARIB', 'C.W. OF IND. STATES', 'NEAR EAST',\n       'NORTHERN AMERICA', 'BALTICS'], dtype=object)"
     },
     "metadata": {},
     "execution_count": 537
    }
   ],
   "source": [
    "countries.Region.unique()"
   ]
  },
  {
   "cell_type": "code",
   "execution_count": 538,
   "metadata": {},
   "outputs": [],
   "source": [
    "def q1():\n",
    "    regioes = countries.Region.unique()\n",
    "    regioes.sort()\n",
    "\n",
    "    return list(regioes)"
   ]
  },
  {
   "cell_type": "code",
   "execution_count": 539,
   "metadata": {},
   "outputs": [
    {
     "output_type": "execute_result",
     "data": {
      "text/plain": "['ASIA (EX. NEAR EAST)',\n 'BALTICS',\n 'C.W. OF IND. STATES',\n 'EASTERN EUROPE',\n 'LATIN AMER. & CARIB',\n 'NEAR EAST',\n 'NORTHERN AFRICA',\n 'NORTHERN AMERICA',\n 'OCEANIA',\n 'SUB-SAHARAN AFRICA',\n 'WESTERN EUROPE']"
     },
     "metadata": {},
     "execution_count": 539
    }
   ],
   "source": [
    "q1()"
   ]
  },
  {
   "cell_type": "markdown",
   "metadata": {},
   "source": [
    "## Questão 2\n",
    "\n",
    "Discretizando a variável `Pop_density` em 10 intervalos com `KBinsDiscretizer`, seguindo o encode `ordinal` e estratégia `quantile`, quantos países se encontram acima do 90º percentil? Responda como um único escalar inteiro."
   ]
  },
  {
   "cell_type": "code",
   "execution_count": 540,
   "metadata": {},
   "outputs": [
    {
     "output_type": "execute_result",
     "data": {
      "text/plain": "array([[3.],\n       [6.],\n       [1.],\n       [8.],\n       [7.]])"
     },
     "metadata": {},
     "execution_count": 540
    }
   ],
   "source": [
    "#https://scikit-learn.org/stable/modules/generated/sklearn.preprocessing.KBinsDiscretizer.html\n",
    "discretizer = KBinsDiscretizer(n_bins=10, encode=\"ordinal\", strategy=\"quantile\")\n",
    "\n",
    "pop_density_bins = discretizer.fit_transform(countries[[\"Pop_density\"]])\n",
    "\n",
    "pop_density_bins[:5]\n"
   ]
  },
  {
   "cell_type": "code",
   "execution_count": 541,
   "metadata": {},
   "outputs": [
    {
     "output_type": "execute_result",
     "data": {
      "text/plain": "array([0., 1., 2., 3., 4., 5., 6., 7., 8., 9.])"
     },
     "metadata": {},
     "execution_count": 541
    }
   ],
   "source": [
    "np.unique(pop_density_bins)"
   ]
  },
  {
   "cell_type": "code",
   "execution_count": 542,
   "metadata": {},
   "outputs": [],
   "source": [
    "def q2():\n",
    "    # Retorne aqui o resultado da questão 2.\n",
    "    return int((pop_density_bins >= 9).sum())\n"
   ]
  },
  {
   "cell_type": "code",
   "execution_count": 543,
   "metadata": {},
   "outputs": [
    {
     "output_type": "execute_result",
     "data": {
      "text/plain": "23"
     },
     "metadata": {},
     "execution_count": 543
    }
   ],
   "source": [
    "q2()"
   ]
  },
  {
   "cell_type": "markdown",
   "metadata": {},
   "source": [
    "# Questão 3\n",
    "\n",
    "Se codificarmos as variáveis `Region` e `Climate` usando _one-hot encoding_, quantos novos atributos seriam criados? Responda como um único escalar."
   ]
  },
  {
   "cell_type": "code",
   "execution_count": 544,
   "metadata": {},
   "outputs": [
    {
     "output_type": "execute_result",
     "data": {
      "text/plain": "(227, 18)"
     },
     "metadata": {},
     "execution_count": 544
    }
   ],
   "source": [
    "#https://scikit-learn.org/stable/modules/generated/sklearn.preprocessing.OneHotEncoder.html\n",
    "one_hot_encoder = OneHotEncoder(sparse=False, dtype=np.int)\n",
    "\n",
    "region_climate_encoded = one_hot_encoder.fit_transform(countries[[\"Region\", \"Climate\"]].fillna(0))\n",
    "\n",
    "\n",
    "region_climate_encoded.shape"
   ]
  },
  {
   "cell_type": "code",
   "execution_count": 545,
   "metadata": {},
   "outputs": [
    {
     "output_type": "execute_result",
     "data": {
      "text/plain": "18"
     },
     "metadata": {},
     "execution_count": 545
    }
   ],
   "source": [
    "#outra forma para Q3\n",
    "countries[[\"Region\", \"Climate\"]].fillna(0).nunique().sum()"
   ]
  },
  {
   "cell_type": "code",
   "execution_count": 546,
   "metadata": {},
   "outputs": [
    {
     "output_type": "execute_result",
     "data": {
      "text/plain": "[array(['ASIA (EX. NEAR EAST)', 'BALTICS', 'C.W. OF IND. STATES',\n        'EASTERN EUROPE', 'LATIN AMER. & CARIB', 'NEAR EAST',\n        'NORTHERN AFRICA', 'NORTHERN AMERICA', 'OCEANIA',\n        'SUB-SAHARAN AFRICA', 'WESTERN EUROPE'], dtype=object),\n array([0. , 1. , 1.5, 2. , 2.5, 3. , 4. ])]"
     },
     "metadata": {},
     "execution_count": 546
    }
   ],
   "source": [
    "one_hot_encoder.categories_"
   ]
  },
  {
   "cell_type": "code",
   "execution_count": 547,
   "metadata": {},
   "outputs": [],
   "source": [
    "def q3():\n",
    "    # Retorne aqui o resultado da questão 3.\n",
    "    return region_climate_encoded.shape[1] "
   ]
  },
  {
   "cell_type": "code",
   "execution_count": 548,
   "metadata": {},
   "outputs": [
    {
     "output_type": "execute_result",
     "data": {
      "text/plain": "18"
     },
     "metadata": {},
     "execution_count": 548
    }
   ],
   "source": [
    "q3()"
   ]
  },
  {
   "cell_type": "markdown",
   "metadata": {},
   "source": [
    "## Questão 4\n",
    "\n",
    "Aplique o seguinte _pipeline_:\n",
    "\n",
    "1. Preencha as variáveis do tipo `int64` e `float64` com suas respectivas medianas.\n",
    "2. Padronize essas variáveis.\n",
    "\n",
    "Após aplicado o _pipeline_ descrito acima aos dados (somente nas variáveis dos tipos especificados), aplique o mesmo _pipeline_ (ou `ColumnTransformer`) ao dado abaixo. Qual o valor da variável `Arable` após o _pipeline_? Responda como um único float arredondado para três casas decimais."
   ]
  },
  {
   "cell_type": "code",
   "execution_count": 549,
   "metadata": {},
   "outputs": [],
   "source": [
    "test_country = [\n",
    "    'Test Country', 'NEAR EAST', -0.19032480757326514,\n",
    "    -0.3232636124824411, -0.04421734470810142, -0.27528113360605316,\n",
    "    0.13255850810281325, -0.8054845935643491, 1.0119784924248225,\n",
    "    0.6189182532646624, 1.0074863283776458, 0.20239896852403538,\n",
    "    -0.043678728558593366, -0.13929748680369286, 1.3163604645710438,\n",
    "    -0.3699637766938669, -0.6149300604558857, -0.854369594993175,\n",
    "    0.263445277972641, 0.5712416961268142\n",
    "]"
   ]
  },
  {
   "cell_type": "code",
   "execution_count": 550,
   "metadata": {},
   "outputs": [],
   "source": [
    "\n",
    "#Copia superficial de countries\n",
    "ppln_data = countries.copy()\n",
    "\n",
    "#https://scikit-learn.org/stable/modules/generated/sklearn.pipeline.Pipeline.html?highlight=pipeline#sklearn.pipeline.Pipeline\n",
    "#Passos da pipeline\n",
    "numeric_transformer = Pipeline(steps=[\n",
    "    (\"imputer\", SimpleImputer(strategy=\"median\")),\n",
    "    (\"standard_scaler\", StandardScaler())\n",
    "])\n"
   ]
  },
  {
   "cell_type": "code",
   "execution_count": 551,
   "metadata": {},
   "outputs": [
    {
     "output_type": "execute_result",
     "data": {
      "text/plain": "Pipeline(steps=[('imputer', SimpleImputer(strategy='median')),\n                ('standard_scaler', StandardScaler())])"
     },
     "metadata": {},
     "execution_count": 551
    }
   ],
   "source": [
    "#https://pandas.pydata.org/pandas-docs/stable/reference/api/pandas.DataFrame.select_dtypes.html\n",
    "#Colunas com Int e Float\n",
    "cols_num = countries.select_dtypes(include=['int64','float64']).columns\n",
    "cols_object = countries.select_dtypes(exclude=['int64','float64']).columns\n",
    "\n",
    "numeric_transformer.fit(countries[cols_num])\n",
    "\n",
    "#Testes Reshape \n",
    "#test_country_r = np.reshape(test_country[2:], (1, -1)) #Para 2D\n",
    "#test_country_t = numeric_transformer.transform([test_country[2:]])\n",
    "\n",
    "#test_country_t"
   ]
  },
  {
   "cell_type": "code",
   "execution_count": 552,
   "metadata": {},
   "outputs": [
    {
     "output_type": "execute_result",
     "data": {
      "text/plain": "        Country     Region  Population      Area  Pop_density  \\\n0  Test Country  NEAR EAST   -0.190325 -0.323264    -0.044217   \n\n   Coastline_ratio  Net_migration  Infant_mortality       GDP  Literacy  \\\n0        -0.275281       0.132559         -0.805485  1.011978  0.618918   \n\n   Phones_per_1000    Arable     Crops     Other  Climate  Birthrate  \\\n0         1.007486  0.202399 -0.043679 -0.139297  1.31636  -0.369964   \n\n   Deathrate  Agriculture  Industry   Service  \n0   -0.61493     -0.85437  0.263445  0.571242  ",
      "text/html": "<div>\n<style scoped>\n    .dataframe tbody tr th:only-of-type {\n        vertical-align: middle;\n    }\n\n    .dataframe tbody tr th {\n        vertical-align: top;\n    }\n\n    .dataframe thead th {\n        text-align: right;\n    }\n</style>\n<table border=\"1\" class=\"dataframe\">\n  <thead>\n    <tr style=\"text-align: right;\">\n      <th></th>\n      <th>Country</th>\n      <th>Region</th>\n      <th>Population</th>\n      <th>Area</th>\n      <th>Pop_density</th>\n      <th>Coastline_ratio</th>\n      <th>Net_migration</th>\n      <th>Infant_mortality</th>\n      <th>GDP</th>\n      <th>Literacy</th>\n      <th>Phones_per_1000</th>\n      <th>Arable</th>\n      <th>Crops</th>\n      <th>Other</th>\n      <th>Climate</th>\n      <th>Birthrate</th>\n      <th>Deathrate</th>\n      <th>Agriculture</th>\n      <th>Industry</th>\n      <th>Service</th>\n    </tr>\n  </thead>\n  <tbody>\n    <tr>\n      <th>0</th>\n      <td>Test Country</td>\n      <td>NEAR EAST</td>\n      <td>-0.190325</td>\n      <td>-0.323264</td>\n      <td>-0.044217</td>\n      <td>-0.275281</td>\n      <td>0.132559</td>\n      <td>-0.805485</td>\n      <td>1.011978</td>\n      <td>0.618918</td>\n      <td>1.007486</td>\n      <td>0.202399</td>\n      <td>-0.043679</td>\n      <td>-0.139297</td>\n      <td>1.31636</td>\n      <td>-0.369964</td>\n      <td>-0.61493</td>\n      <td>-0.85437</td>\n      <td>0.263445</td>\n      <td>0.571242</td>\n    </tr>\n  </tbody>\n</table>\n</div>"
     },
     "metadata": {},
     "execution_count": 552
    }
   ],
   "source": [
    "df_test_country = pd.DataFrame([test_country], columns=countries.columns)\n",
    "\n",
    "df_test_country.head()"
   ]
  },
  {
   "cell_type": "code",
   "execution_count": 553,
   "metadata": {},
   "outputs": [
    {
     "output_type": "execute_result",
     "data": {
      "text/plain": "array([[-0.24432501, -0.33489095, -0.22884735, -0.29726002,  0.01959086,\n        -1.02861728, -0.96623348, -4.35427242, -1.03720972, -1.04685743,\n        -0.55058149, -5.10112169, -1.21812201, -2.02455164, -1.99092137,\n        -7.04915046, -0.13915481,  0.03490335]])"
     },
     "metadata": {},
     "execution_count": 553
    }
   ],
   "source": [
    "test_country_transformed = numeric_transformer.transform(df_test_country[cols_num])\n",
    "\n",
    "test_country_transformed"
   ]
  },
  {
   "cell_type": "code",
   "execution_count": 554,
   "metadata": {},
   "outputs": [
    {
     "output_type": "execute_result",
     "data": {
      "text/plain": "   Population      Area  Pop_density  Coastline_ratio  Net_migration  \\\n0   -0.244325 -0.334891    -0.228847         -0.29726       0.019591   \n\n   Infant_mortality       GDP  Literacy  Phones_per_1000    Arable     Crops  \\\n0         -1.028617 -0.966233 -4.354272         -1.03721 -1.046857 -0.550581   \n\n      Other   Climate  Birthrate  Deathrate  Agriculture  Industry   Service  \n0 -5.101122 -1.218122  -2.024552  -1.990921     -7.04915 -0.139155  0.034903  ",
      "text/html": "<div>\n<style scoped>\n    .dataframe tbody tr th:only-of-type {\n        vertical-align: middle;\n    }\n\n    .dataframe tbody tr th {\n        vertical-align: top;\n    }\n\n    .dataframe thead th {\n        text-align: right;\n    }\n</style>\n<table border=\"1\" class=\"dataframe\">\n  <thead>\n    <tr style=\"text-align: right;\">\n      <th></th>\n      <th>Population</th>\n      <th>Area</th>\n      <th>Pop_density</th>\n      <th>Coastline_ratio</th>\n      <th>Net_migration</th>\n      <th>Infant_mortality</th>\n      <th>GDP</th>\n      <th>Literacy</th>\n      <th>Phones_per_1000</th>\n      <th>Arable</th>\n      <th>Crops</th>\n      <th>Other</th>\n      <th>Climate</th>\n      <th>Birthrate</th>\n      <th>Deathrate</th>\n      <th>Agriculture</th>\n      <th>Industry</th>\n      <th>Service</th>\n    </tr>\n  </thead>\n  <tbody>\n    <tr>\n      <th>0</th>\n      <td>-0.244325</td>\n      <td>-0.334891</td>\n      <td>-0.228847</td>\n      <td>-0.29726</td>\n      <td>0.019591</td>\n      <td>-1.028617</td>\n      <td>-0.966233</td>\n      <td>-4.354272</td>\n      <td>-1.03721</td>\n      <td>-1.046857</td>\n      <td>-0.550581</td>\n      <td>-5.101122</td>\n      <td>-1.218122</td>\n      <td>-2.024552</td>\n      <td>-1.990921</td>\n      <td>-7.04915</td>\n      <td>-0.139155</td>\n      <td>0.034903</td>\n    </tr>\n  </tbody>\n</table>\n</div>"
     },
     "metadata": {},
     "execution_count": 554
    }
   ],
   "source": [
    "df_test_country_results = pd.DataFrame(test_country_transformed, columns=cols_num)\n",
    "\n",
    "df_test_country_results.head()"
   ]
  },
  {
   "cell_type": "code",
   "execution_count": 555,
   "metadata": {},
   "outputs": [
    {
     "output_type": "execute_result",
     "data": {
      "text/plain": "        Country     Region  Population      Area  Pop_density  \\\n0  Test Country  NEAR EAST   -0.244325 -0.334891    -0.228847   \n\n   Coastline_ratio  Net_migration  Infant_mortality       GDP  Literacy  \\\n0         -0.29726       0.019591         -1.028617 -0.966233 -4.354272   \n\n   Phones_per_1000    Arable     Crops     Other   Climate  Birthrate  \\\n0         -1.03721 -1.046857 -0.550581 -5.101122 -1.218122  -2.024552   \n\n   Deathrate  Agriculture  Industry   Service  \n0  -1.990921     -7.04915 -0.139155  0.034903  ",
      "text/html": "<div>\n<style scoped>\n    .dataframe tbody tr th:only-of-type {\n        vertical-align: middle;\n    }\n\n    .dataframe tbody tr th {\n        vertical-align: top;\n    }\n\n    .dataframe thead th {\n        text-align: right;\n    }\n</style>\n<table border=\"1\" class=\"dataframe\">\n  <thead>\n    <tr style=\"text-align: right;\">\n      <th></th>\n      <th>Country</th>\n      <th>Region</th>\n      <th>Population</th>\n      <th>Area</th>\n      <th>Pop_density</th>\n      <th>Coastline_ratio</th>\n      <th>Net_migration</th>\n      <th>Infant_mortality</th>\n      <th>GDP</th>\n      <th>Literacy</th>\n      <th>Phones_per_1000</th>\n      <th>Arable</th>\n      <th>Crops</th>\n      <th>Other</th>\n      <th>Climate</th>\n      <th>Birthrate</th>\n      <th>Deathrate</th>\n      <th>Agriculture</th>\n      <th>Industry</th>\n      <th>Service</th>\n    </tr>\n  </thead>\n  <tbody>\n    <tr>\n      <th>0</th>\n      <td>Test Country</td>\n      <td>NEAR EAST</td>\n      <td>-0.244325</td>\n      <td>-0.334891</td>\n      <td>-0.228847</td>\n      <td>-0.29726</td>\n      <td>0.019591</td>\n      <td>-1.028617</td>\n      <td>-0.966233</td>\n      <td>-4.354272</td>\n      <td>-1.03721</td>\n      <td>-1.046857</td>\n      <td>-0.550581</td>\n      <td>-5.101122</td>\n      <td>-1.218122</td>\n      <td>-2.024552</td>\n      <td>-1.990921</td>\n      <td>-7.04915</td>\n      <td>-0.139155</td>\n      <td>0.034903</td>\n    </tr>\n  </tbody>\n</table>\n</div>"
     },
     "metadata": {},
     "execution_count": 555
    }
   ],
   "source": [
    "#Concatenando os dados object com os resultados\n",
    "#https://pandas.pydata.org/pandas-docs/stable/reference/api/pandas.concat.html\n",
    "df_test_country_results = pd.concat([df_test_country[cols_object], df_test_country_results], axis=1)\n",
    "\n",
    "df_test_country_results.head()"
   ]
  },
  {
   "cell_type": "code",
   "execution_count": 556,
   "metadata": {},
   "outputs": [],
   "source": [
    "def q4():\n",
    "    # Retorne aqui o resultado da questão 4.\n",
    "    return float(round(df_test_country_results.Arable, 3))"
   ]
  },
  {
   "cell_type": "code",
   "execution_count": 557,
   "metadata": {},
   "outputs": [
    {
     "output_type": "execute_result",
     "data": {
      "text/plain": "-1.047"
     },
     "metadata": {},
     "execution_count": 557
    }
   ],
   "source": [
    "q4()"
   ]
  },
  {
   "cell_type": "markdown",
   "metadata": {},
   "source": [
    "## Questão 5\n",
    "\n",
    "Descubra o número de _outliers_ da variável `Net_migration` segundo o método do _boxplot_, ou seja, usando a lógica:\n",
    "\n",
    "$$x \\notin [Q1 - 1.5 \\times \\text{IQR}, Q3 + 1.5 \\times \\text{IQR}] \\Rightarrow x \\text{ é outlier}$$\n",
    "\n",
    "que se encontram no grupo inferior e no grupo superior.\n",
    "\n",
    "Você deveria remover da análise as observações consideradas _outliers_ segundo esse método? Responda como uma tupla de três elementos `(outliers_abaixo, outliers_acima, removeria?)` ((int, int, bool))."
   ]
  },
  {
   "cell_type": "code",
   "execution_count": 558,
   "metadata": {},
   "outputs": [],
   "source": [
    "net_migration_outliers = countries.Net_migration.copy()"
   ]
  },
  {
   "cell_type": "code",
   "execution_count": 559,
   "metadata": {},
   "outputs": [
    {
     "output_type": "execute_result",
     "data": {
      "text/plain": "<matplotlib.axes._subplots.AxesSubplot at 0x1c5e8ae1220>"
     },
     "metadata": {},
     "execution_count": 559
    },
    {
     "output_type": "display_data",
     "data": {
      "text/plain": "<Figure size 864x576 with 1 Axes>",
      "image/svg+xml": "<?xml version=\"1.0\" encoding=\"utf-8\" standalone=\"no\"?>\r\n<!DOCTYPE svg PUBLIC \"-//W3C//DTD SVG 1.1//EN\"\r\n  \"http://www.w3.org/Graphics/SVG/1.1/DTD/svg11.dtd\">\r\n<!-- Created with matplotlib (https://matplotlib.org/) -->\r\n<svg height=\"449.28pt\" version=\"1.1\" viewBox=\"0 0 727.27375 449.28\" width=\"727.27375pt\" xmlns=\"http://www.w3.org/2000/svg\" xmlns:xlink=\"http://www.w3.org/1999/xlink\">\r\n <defs>\r\n  <style type=\"text/css\">\r\n*{stroke-linecap:butt;stroke-linejoin:round;}\r\n  </style>\r\n </defs>\r\n <g id=\"figure_1\">\r\n  <g id=\"patch_1\">\r\n   <path d=\"M 0 449.28 \r\nL 727.27375 449.28 \r\nL 727.27375 0 \r\nL 0 0 \r\nz\r\n\" style=\"fill:#ffffff;\"/>\r\n  </g>\r\n  <g id=\"axes_1\">\r\n   <g id=\"patch_2\">\r\n    <path d=\"M 50.47375 442.08 \r\nL 720.07375 442.08 \r\nL 720.07375 7.2 \r\nL 50.47375 7.2 \r\nz\r\n\" style=\"fill:#eaeaf2;\"/>\r\n   </g>\r\n   <g id=\"matplotlib.axis_1\">\r\n    <g id=\"xtick_1\"/>\r\n   </g>\r\n   <g id=\"matplotlib.axis_2\">\r\n    <g id=\"ytick_1\">\r\n     <g id=\"line2d_1\">\r\n      <path clip-path=\"url(#p17f51f4aee)\" d=\"M 50.47375 413.427551 \r\nL 720.07375 413.427551 \r\n\" style=\"fill:none;stroke:#ffffff;stroke-linecap:round;\"/>\r\n     </g>\r\n     <g id=\"text_1\">\r\n      <!-- −20 -->\r\n      <defs>\r\n       <path d=\"M 52.828125 31.203125 \r\nL 5.5625 31.203125 \r\nL 5.5625 39.40625 \r\nL 52.828125 39.40625 \r\nz\r\n\" id=\"ArialMT-8722\"/>\r\n       <path d=\"M 50.34375 8.453125 \r\nL 50.34375 0 \r\nL 3.03125 0 \r\nQ 2.9375 3.171875 4.046875 6.109375 \r\nQ 5.859375 10.9375 9.828125 15.625 \r\nQ 13.8125 20.3125 21.34375 26.46875 \r\nQ 33.015625 36.03125 37.109375 41.625 \r\nQ 41.21875 47.21875 41.21875 52.203125 \r\nQ 41.21875 57.421875 37.46875 61 \r\nQ 33.734375 64.59375 27.734375 64.59375 \r\nQ 21.390625 64.59375 17.578125 60.78125 \r\nQ 13.765625 56.984375 13.71875 50.25 \r\nL 4.6875 51.171875 \r\nQ 5.609375 61.28125 11.65625 66.578125 \r\nQ 17.71875 71.875 27.9375 71.875 \r\nQ 38.234375 71.875 44.234375 66.15625 \r\nQ 50.25 60.453125 50.25 52 \r\nQ 50.25 47.703125 48.484375 43.546875 \r\nQ 46.734375 39.40625 42.65625 34.8125 \r\nQ 38.578125 30.21875 29.109375 22.21875 \r\nQ 21.1875 15.578125 18.9375 13.203125 \r\nQ 16.703125 10.84375 15.234375 8.453125 \r\nz\r\n\" id=\"ArialMT-50\"/>\r\n       <path d=\"M 4.15625 35.296875 \r\nQ 4.15625 48 6.765625 55.734375 \r\nQ 9.375 63.484375 14.515625 67.671875 \r\nQ 19.671875 71.875 27.484375 71.875 \r\nQ 33.25 71.875 37.59375 69.546875 \r\nQ 41.9375 67.234375 44.765625 62.859375 \r\nQ 47.609375 58.5 49.21875 52.21875 \r\nQ 50.828125 45.953125 50.828125 35.296875 \r\nQ 50.828125 22.703125 48.234375 14.96875 \r\nQ 45.65625 7.234375 40.5 3 \r\nQ 35.359375 -1.21875 27.484375 -1.21875 \r\nQ 17.140625 -1.21875 11.234375 6.203125 \r\nQ 4.15625 15.140625 4.15625 35.296875 \r\nz\r\nM 13.1875 35.296875 \r\nQ 13.1875 17.671875 17.3125 11.828125 \r\nQ 21.4375 6 27.484375 6 \r\nQ 33.546875 6 37.671875 11.859375 \r\nQ 41.796875 17.71875 41.796875 35.296875 \r\nQ 41.796875 52.984375 37.671875 58.78125 \r\nQ 33.546875 64.59375 27.390625 64.59375 \r\nQ 21.34375 64.59375 17.71875 59.46875 \r\nQ 13.1875 52.9375 13.1875 35.296875 \r\nz\r\n\" id=\"ArialMT-48\"/>\r\n      </defs>\r\n      <g style=\"fill:#262626;\" transform=\"translate(22.315 417.364348)scale(0.11 -0.11)\">\r\n       <use xlink:href=\"#ArialMT-8722\"/>\r\n       <use x=\"58.398438\" xlink:href=\"#ArialMT-50\"/>\r\n       <use x=\"114.013672\" xlink:href=\"#ArialMT-48\"/>\r\n      </g>\r\n     </g>\r\n    </g>\r\n    <g id=\"ytick_2\">\r\n     <g id=\"line2d_2\">\r\n      <path clip-path=\"url(#p17f51f4aee)\" d=\"M 50.47375 323.678299 \r\nL 720.07375 323.678299 \r\n\" style=\"fill:none;stroke:#ffffff;stroke-linecap:round;\"/>\r\n     </g>\r\n     <g id=\"text_2\">\r\n      <!-- −10 -->\r\n      <defs>\r\n       <path d=\"M 37.25 0 \r\nL 28.46875 0 \r\nL 28.46875 56 \r\nQ 25.296875 52.984375 20.140625 49.953125 \r\nQ 14.984375 46.921875 10.890625 45.40625 \r\nL 10.890625 53.90625 \r\nQ 18.265625 57.375 23.78125 62.296875 \r\nQ 29.296875 67.234375 31.59375 71.875 \r\nL 37.25 71.875 \r\nz\r\n\" id=\"ArialMT-49\"/>\r\n      </defs>\r\n      <g style=\"fill:#262626;\" transform=\"translate(22.315 327.615096)scale(0.11 -0.11)\">\r\n       <use xlink:href=\"#ArialMT-8722\"/>\r\n       <use x=\"58.398438\" xlink:href=\"#ArialMT-49\"/>\r\n       <use x=\"114.013672\" xlink:href=\"#ArialMT-48\"/>\r\n      </g>\r\n     </g>\r\n    </g>\r\n    <g id=\"ytick_3\">\r\n     <g id=\"line2d_3\">\r\n      <path clip-path=\"url(#p17f51f4aee)\" d=\"M 50.47375 233.929048 \r\nL 720.07375 233.929048 \r\n\" style=\"fill:none;stroke:#ffffff;stroke-linecap:round;\"/>\r\n     </g>\r\n     <g id=\"text_3\">\r\n      <!-- 0 -->\r\n      <g style=\"fill:#262626;\" transform=\"translate(34.856719 237.865844)scale(0.11 -0.11)\">\r\n       <use xlink:href=\"#ArialMT-48\"/>\r\n      </g>\r\n     </g>\r\n    </g>\r\n    <g id=\"ytick_4\">\r\n     <g id=\"line2d_4\">\r\n      <path clip-path=\"url(#p17f51f4aee)\" d=\"M 50.47375 144.179796 \r\nL 720.07375 144.179796 \r\n\" style=\"fill:none;stroke:#ffffff;stroke-linecap:round;\"/>\r\n     </g>\r\n     <g id=\"text_4\">\r\n      <!-- 10 -->\r\n      <g style=\"fill:#262626;\" transform=\"translate(28.739688 148.116593)scale(0.11 -0.11)\">\r\n       <use xlink:href=\"#ArialMT-49\"/>\r\n       <use x=\"55.615234\" xlink:href=\"#ArialMT-48\"/>\r\n      </g>\r\n     </g>\r\n    </g>\r\n    <g id=\"ytick_5\">\r\n     <g id=\"line2d_5\">\r\n      <path clip-path=\"url(#p17f51f4aee)\" d=\"M 50.47375 54.430544 \r\nL 720.07375 54.430544 \r\n\" style=\"fill:none;stroke:#ffffff;stroke-linecap:round;\"/>\r\n     </g>\r\n     <g id=\"text_5\">\r\n      <!-- 20 -->\r\n      <g style=\"fill:#262626;\" transform=\"translate(28.739688 58.367341)scale(0.11 -0.11)\">\r\n       <use xlink:href=\"#ArialMT-50\"/>\r\n       <use x=\"55.615234\" xlink:href=\"#ArialMT-48\"/>\r\n      </g>\r\n     </g>\r\n    </g>\r\n    <g id=\"text_6\">\r\n     <!-- Net_migration -->\r\n     <defs>\r\n      <path d=\"M 7.625 0 \r\nL 7.625 71.578125 \r\nL 17.328125 71.578125 \r\nL 54.9375 15.375 \r\nL 54.9375 71.578125 \r\nL 64.015625 71.578125 \r\nL 64.015625 0 \r\nL 54.296875 0 \r\nL 16.703125 56.25 \r\nL 16.703125 0 \r\nz\r\n\" id=\"ArialMT-78\"/>\r\n      <path d=\"M 42.09375 16.703125 \r\nL 51.171875 15.578125 \r\nQ 49.03125 7.625 43.21875 3.21875 \r\nQ 37.40625 -1.171875 28.375 -1.171875 \r\nQ 17 -1.171875 10.328125 5.828125 \r\nQ 3.65625 12.84375 3.65625 25.484375 \r\nQ 3.65625 38.578125 10.390625 45.796875 \r\nQ 17.140625 53.03125 27.875 53.03125 \r\nQ 38.28125 53.03125 44.875 45.953125 \r\nQ 51.46875 38.875 51.46875 26.03125 \r\nQ 51.46875 25.25 51.421875 23.6875 \r\nL 12.75 23.6875 \r\nQ 13.234375 15.140625 17.578125 10.59375 \r\nQ 21.921875 6.0625 28.421875 6.0625 \r\nQ 33.25 6.0625 36.671875 8.59375 \r\nQ 40.09375 11.140625 42.09375 16.703125 \r\nz\r\nM 13.234375 30.90625 \r\nL 42.1875 30.90625 \r\nQ 41.609375 37.453125 38.875 40.71875 \r\nQ 34.671875 45.796875 27.984375 45.796875 \r\nQ 21.921875 45.796875 17.796875 41.75 \r\nQ 13.671875 37.703125 13.234375 30.90625 \r\nz\r\n\" id=\"ArialMT-101\"/>\r\n      <path d=\"M 25.78125 7.859375 \r\nL 27.046875 0.09375 \r\nQ 23.34375 -0.6875 20.40625 -0.6875 \r\nQ 15.625 -0.6875 12.984375 0.828125 \r\nQ 10.359375 2.34375 9.28125 4.8125 \r\nQ 8.203125 7.28125 8.203125 15.1875 \r\nL 8.203125 45.015625 \r\nL 1.765625 45.015625 \r\nL 1.765625 51.859375 \r\nL 8.203125 51.859375 \r\nL 8.203125 64.703125 \r\nL 16.9375 69.96875 \r\nL 16.9375 51.859375 \r\nL 25.78125 51.859375 \r\nL 25.78125 45.015625 \r\nL 16.9375 45.015625 \r\nL 16.9375 14.703125 \r\nQ 16.9375 10.9375 17.40625 9.859375 \r\nQ 17.875 8.796875 18.921875 8.15625 \r\nQ 19.96875 7.515625 21.921875 7.515625 \r\nQ 23.390625 7.515625 25.78125 7.859375 \r\nz\r\n\" id=\"ArialMT-116\"/>\r\n      <path d=\"M -1.515625 -19.875 \r\nL -1.515625 -13.53125 \r\nL 56.734375 -13.53125 \r\nL 56.734375 -19.875 \r\nz\r\n\" id=\"ArialMT-95\"/>\r\n      <path d=\"M 6.59375 0 \r\nL 6.59375 51.859375 \r\nL 14.453125 51.859375 \r\nL 14.453125 44.578125 \r\nQ 16.890625 48.390625 20.9375 50.703125 \r\nQ 25 53.03125 30.171875 53.03125 \r\nQ 35.9375 53.03125 39.625 50.640625 \r\nQ 43.3125 48.25 44.828125 43.953125 \r\nQ 50.984375 53.03125 60.84375 53.03125 \r\nQ 68.5625 53.03125 72.703125 48.75 \r\nQ 76.859375 44.484375 76.859375 35.59375 \r\nL 76.859375 0 \r\nL 68.109375 0 \r\nL 68.109375 32.671875 \r\nQ 68.109375 37.9375 67.25 40.25 \r\nQ 66.40625 42.578125 64.15625 43.984375 \r\nQ 61.921875 45.40625 58.890625 45.40625 \r\nQ 53.421875 45.40625 49.796875 41.765625 \r\nQ 46.1875 38.140625 46.1875 30.125 \r\nL 46.1875 0 \r\nL 37.40625 0 \r\nL 37.40625 33.6875 \r\nQ 37.40625 39.546875 35.25 42.46875 \r\nQ 33.109375 45.40625 28.21875 45.40625 \r\nQ 24.515625 45.40625 21.359375 43.453125 \r\nQ 18.21875 41.5 16.796875 37.734375 \r\nQ 15.375 33.984375 15.375 26.90625 \r\nL 15.375 0 \r\nz\r\n\" id=\"ArialMT-109\"/>\r\n      <path d=\"M 6.640625 61.46875 \r\nL 6.640625 71.578125 \r\nL 15.4375 71.578125 \r\nL 15.4375 61.46875 \r\nz\r\nM 6.640625 0 \r\nL 6.640625 51.859375 \r\nL 15.4375 51.859375 \r\nL 15.4375 0 \r\nz\r\n\" id=\"ArialMT-105\"/>\r\n      <path d=\"M 4.984375 -4.296875 \r\nL 13.53125 -5.5625 \r\nQ 14.0625 -9.515625 16.5 -11.328125 \r\nQ 19.78125 -13.765625 25.4375 -13.765625 \r\nQ 31.546875 -13.765625 34.859375 -11.328125 \r\nQ 38.1875 -8.890625 39.359375 -4.5 \r\nQ 40.046875 -1.8125 39.984375 6.78125 \r\nQ 34.234375 0 25.640625 0 \r\nQ 14.9375 0 9.078125 7.71875 \r\nQ 3.21875 15.4375 3.21875 26.21875 \r\nQ 3.21875 33.640625 5.90625 39.90625 \r\nQ 8.59375 46.1875 13.6875 49.609375 \r\nQ 18.796875 53.03125 25.6875 53.03125 \r\nQ 34.859375 53.03125 40.828125 45.609375 \r\nL 40.828125 51.859375 \r\nL 48.921875 51.859375 \r\nL 48.921875 7.03125 \r\nQ 48.921875 -5.078125 46.453125 -10.125 \r\nQ 44 -15.1875 38.640625 -18.109375 \r\nQ 33.296875 -21.046875 25.484375 -21.046875 \r\nQ 16.21875 -21.046875 10.5 -16.875 \r\nQ 4.78125 -12.703125 4.984375 -4.296875 \r\nz\r\nM 12.25 26.859375 \r\nQ 12.25 16.65625 16.296875 11.96875 \r\nQ 20.359375 7.28125 26.46875 7.28125 \r\nQ 32.515625 7.28125 36.609375 11.9375 \r\nQ 40.71875 16.609375 40.71875 26.5625 \r\nQ 40.71875 36.078125 36.5 40.90625 \r\nQ 32.28125 45.75 26.3125 45.75 \r\nQ 20.453125 45.75 16.34375 40.984375 \r\nQ 12.25 36.234375 12.25 26.859375 \r\nz\r\n\" id=\"ArialMT-103\"/>\r\n      <path d=\"M 6.5 0 \r\nL 6.5 51.859375 \r\nL 14.40625 51.859375 \r\nL 14.40625 44 \r\nQ 17.4375 49.515625 20 51.265625 \r\nQ 22.5625 53.03125 25.640625 53.03125 \r\nQ 30.078125 53.03125 34.671875 50.203125 \r\nL 31.640625 42.046875 \r\nQ 28.421875 43.953125 25.203125 43.953125 \r\nQ 22.3125 43.953125 20.015625 42.21875 \r\nQ 17.71875 40.484375 16.75 37.40625 \r\nQ 15.28125 32.71875 15.28125 27.15625 \r\nL 15.28125 0 \r\nz\r\n\" id=\"ArialMT-114\"/>\r\n      <path d=\"M 40.4375 6.390625 \r\nQ 35.546875 2.25 31.03125 0.53125 \r\nQ 26.515625 -1.171875 21.34375 -1.171875 \r\nQ 12.796875 -1.171875 8.203125 3 \r\nQ 3.609375 7.171875 3.609375 13.671875 \r\nQ 3.609375 17.484375 5.34375 20.625 \r\nQ 7.078125 23.78125 9.890625 25.6875 \r\nQ 12.703125 27.59375 16.21875 28.5625 \r\nQ 18.796875 29.25 24.03125 29.890625 \r\nQ 34.671875 31.15625 39.703125 32.90625 \r\nQ 39.75 34.71875 39.75 35.203125 \r\nQ 39.75 40.578125 37.25 42.78125 \r\nQ 33.890625 45.75 27.25 45.75 \r\nQ 21.046875 45.75 18.09375 43.578125 \r\nQ 15.140625 41.40625 13.71875 35.890625 \r\nL 5.125 37.0625 \r\nQ 6.296875 42.578125 8.984375 45.96875 \r\nQ 11.671875 49.359375 16.75 51.1875 \r\nQ 21.828125 53.03125 28.515625 53.03125 \r\nQ 35.15625 53.03125 39.296875 51.46875 \r\nQ 43.453125 49.90625 45.40625 47.53125 \r\nQ 47.359375 45.171875 48.140625 41.546875 \r\nQ 48.578125 39.3125 48.578125 33.453125 \r\nL 48.578125 21.734375 \r\nQ 48.578125 9.46875 49.140625 6.21875 \r\nQ 49.703125 2.984375 51.375 0 \r\nL 42.1875 0 \r\nQ 40.828125 2.734375 40.4375 6.390625 \r\nz\r\nM 39.703125 26.03125 \r\nQ 34.90625 24.078125 25.34375 22.703125 \r\nQ 19.921875 21.921875 17.671875 20.9375 \r\nQ 15.4375 19.96875 14.203125 18.09375 \r\nQ 12.984375 16.21875 12.984375 13.921875 \r\nQ 12.984375 10.40625 15.640625 8.0625 \r\nQ 18.3125 5.71875 23.4375 5.71875 \r\nQ 28.515625 5.71875 32.46875 7.9375 \r\nQ 36.421875 10.15625 38.28125 14.015625 \r\nQ 39.703125 17 39.703125 22.796875 \r\nz\r\n\" id=\"ArialMT-97\"/>\r\n      <path d=\"M 3.328125 25.921875 \r\nQ 3.328125 40.328125 11.328125 47.265625 \r\nQ 18.015625 53.03125 27.640625 53.03125 \r\nQ 38.328125 53.03125 45.109375 46.015625 \r\nQ 51.90625 39.015625 51.90625 26.65625 \r\nQ 51.90625 16.65625 48.90625 10.90625 \r\nQ 45.90625 5.171875 40.15625 2 \r\nQ 34.421875 -1.171875 27.640625 -1.171875 \r\nQ 16.75 -1.171875 10.03125 5.8125 \r\nQ 3.328125 12.796875 3.328125 25.921875 \r\nz\r\nM 12.359375 25.921875 \r\nQ 12.359375 15.96875 16.703125 11.015625 \r\nQ 21.046875 6.0625 27.640625 6.0625 \r\nQ 34.1875 6.0625 38.53125 11.03125 \r\nQ 42.875 16.015625 42.875 26.21875 \r\nQ 42.875 35.84375 38.5 40.796875 \r\nQ 34.125 45.75 27.640625 45.75 \r\nQ 21.046875 45.75 16.703125 40.8125 \r\nQ 12.359375 35.890625 12.359375 25.921875 \r\nz\r\n\" id=\"ArialMT-111\"/>\r\n      <path d=\"M 6.59375 0 \r\nL 6.59375 51.859375 \r\nL 14.5 51.859375 \r\nL 14.5 44.484375 \r\nQ 20.21875 53.03125 31 53.03125 \r\nQ 35.6875 53.03125 39.625 51.34375 \r\nQ 43.5625 49.65625 45.515625 46.921875 \r\nQ 47.46875 44.1875 48.25 40.4375 \r\nQ 48.734375 37.984375 48.734375 31.890625 \r\nL 48.734375 0 \r\nL 39.9375 0 \r\nL 39.9375 31.546875 \r\nQ 39.9375 36.921875 38.90625 39.578125 \r\nQ 37.890625 42.234375 35.28125 43.8125 \r\nQ 32.671875 45.40625 29.15625 45.40625 \r\nQ 23.53125 45.40625 19.453125 41.84375 \r\nQ 15.375 38.28125 15.375 28.328125 \r\nL 15.375 0 \r\nz\r\n\" id=\"ArialMT-110\"/>\r\n     </defs>\r\n     <g style=\"fill:#262626;\" transform=\"translate(15.789375 261.988125)rotate(-90)scale(0.12 -0.12)\">\r\n      <use xlink:href=\"#ArialMT-78\"/>\r\n      <use x=\"72.216797\" xlink:href=\"#ArialMT-101\"/>\r\n      <use x=\"127.832031\" xlink:href=\"#ArialMT-116\"/>\r\n      <use x=\"155.615234\" xlink:href=\"#ArialMT-95\"/>\r\n      <use x=\"211.230469\" xlink:href=\"#ArialMT-109\"/>\r\n      <use x=\"294.53125\" xlink:href=\"#ArialMT-105\"/>\r\n      <use x=\"316.748047\" xlink:href=\"#ArialMT-103\"/>\r\n      <use x=\"372.363281\" xlink:href=\"#ArialMT-114\"/>\r\n      <use x=\"405.664062\" xlink:href=\"#ArialMT-97\"/>\r\n      <use x=\"461.279297\" xlink:href=\"#ArialMT-116\"/>\r\n      <use x=\"489.0625\" xlink:href=\"#ArialMT-105\"/>\r\n      <use x=\"511.279297\" xlink:href=\"#ArialMT-111\"/>\r\n      <use x=\"566.894531\" xlink:href=\"#ArialMT-110\"/>\r\n     </g>\r\n    </g>\r\n   </g>\r\n   <g id=\"patch_3\">\r\n    <path clip-path=\"url(#p17f51f4aee)\" d=\"M 117.43375 242.253291 \r\nL 653.11375 242.253291 \r\nL 653.11375 224.97656 \r\nL 117.43375 224.97656 \r\nL 117.43375 242.253291 \r\nz\r\n\" style=\"fill:#5875a4;stroke:#4c4c4c;stroke-linejoin:miter;stroke-width:1.5;\"/>\r\n   </g>\r\n   <g id=\"line2d_6\">\r\n    <path clip-path=\"url(#p17f51f4aee)\" d=\"M 385.27375 242.253291 \r\nL 385.27375 267.495268 \r\n\" style=\"fill:none;stroke:#4c4c4c;stroke-linecap:round;stroke-width:1.5;\"/>\r\n   </g>\r\n   <g id=\"line2d_7\">\r\n    <path clip-path=\"url(#p17f51f4aee)\" d=\"M 385.27375 224.97656 \r\nL 385.27375 199.465335 \r\n\" style=\"fill:none;stroke:#4c4c4c;stroke-linecap:round;stroke-width:1.5;\"/>\r\n   </g>\r\n   <g id=\"line2d_8\">\r\n    <path clip-path=\"url(#p17f51f4aee)\" d=\"M 251.35375 267.495268 \r\nL 519.19375 267.495268 \r\n\" style=\"fill:none;stroke:#4c4c4c;stroke-linecap:round;stroke-width:1.5;\"/>\r\n   </g>\r\n   <g id=\"line2d_9\">\r\n    <path clip-path=\"url(#p17f51f4aee)\" d=\"M 251.35375 199.465335 \r\nL 519.19375 199.465335 \r\n\" style=\"fill:none;stroke:#4c4c4c;stroke-linecap:round;stroke-width:1.5;\"/>\r\n   </g>\r\n   <g id=\"line2d_10\">\r\n    <defs>\r\n     <path d=\"M 0 3.535534 \r\nL 2.12132 0 \r\nL 0 -3.535534 \r\nL -2.12132 0 \r\nz\r\n\" id=\"ma644257dfe\" style=\"stroke:#4c4c4c;stroke-linejoin:miter;\"/>\r\n    </defs>\r\n    <g clip-path=\"url(#p17f51f4aee)\">\r\n     <use style=\"fill:#4c4c4c;stroke:#4c4c4c;stroke-linejoin:miter;\" x=\"385.27375\" xlink:href=\"#ma644257dfe\" y=\"278.175429\"/>\r\n     <use style=\"fill:#4c4c4c;stroke:#4c4c4c;stroke-linejoin:miter;\" x=\"385.27375\" xlink:href=\"#ma644257dfe\" y=\"419.799748\"/>\r\n     <use style=\"fill:#4c4c4c;stroke:#4c4c4c;stroke-linejoin:miter;\" x=\"385.27375\" xlink:href=\"#ma644257dfe\" y=\"289.124837\"/>\r\n     <use style=\"fill:#4c4c4c;stroke:#4c4c4c;stroke-linejoin:miter;\" x=\"385.27375\" xlink:href=\"#ma644257dfe\" y=\"291.996814\"/>\r\n     <use style=\"fill:#4c4c4c;stroke:#4c4c4c;stroke-linejoin:miter;\" x=\"385.27375\" xlink:href=\"#ma644257dfe\" y=\"277.906181\"/>\r\n     <use style=\"fill:#4c4c4c;stroke:#4c4c4c;stroke-linejoin:miter;\" x=\"385.27375\" xlink:href=\"#ma644257dfe\" y=\"275.034205\"/>\r\n     <use style=\"fill:#4c4c4c;stroke:#4c4c4c;stroke-linejoin:miter;\" x=\"385.27375\" xlink:href=\"#ma644257dfe\" y=\"342.256395\"/>\r\n     <use style=\"fill:#4c4c4c;stroke:#4c4c4c;stroke-linejoin:miter;\" x=\"385.27375\" xlink:href=\"#ma644257dfe\" y=\"358.41126\"/>\r\n     <use style=\"fill:#4c4c4c;stroke:#4c4c4c;stroke-linejoin:miter;\" x=\"385.27375\" xlink:href=\"#ma644257dfe\" y=\"310.933906\"/>\r\n     <use style=\"fill:#4c4c4c;stroke:#4c4c4c;stroke-linejoin:miter;\" x=\"385.27375\" xlink:href=\"#ma644257dfe\" y=\"276.111196\"/>\r\n     <use style=\"fill:#4c4c4c;stroke:#4c4c4c;stroke-linejoin:miter;\" x=\"385.27375\" xlink:href=\"#ma644257dfe\" y=\"309.049171\"/>\r\n     <use style=\"fill:#4c4c4c;stroke:#4c4c4c;stroke-linejoin:miter;\" x=\"385.27375\" xlink:href=\"#ma644257dfe\" y=\"358.860006\"/>\r\n     <use style=\"fill:#4c4c4c;stroke:#4c4c4c;stroke-linejoin:miter;\" x=\"385.27375\" xlink:href=\"#ma644257dfe\" y=\"278.085679\"/>\r\n     <use style=\"fill:#4c4c4c;stroke:#4c4c4c;stroke-linejoin:miter;\" x=\"385.27375\" xlink:href=\"#ma644257dfe\" y=\"288.137596\"/>\r\n     <use style=\"fill:#4c4c4c;stroke:#4c4c4c;stroke-linejoin:miter;\" x=\"385.27375\" xlink:href=\"#ma644257dfe\" y=\"277.636933\"/>\r\n     <use style=\"fill:#4c4c4c;stroke:#4c4c4c;stroke-linejoin:miter;\" x=\"385.27375\" xlink:href=\"#ma644257dfe\" y=\"422.312727\"/>\r\n     <use style=\"fill:#4c4c4c;stroke:#4c4c4c;stroke-linejoin:miter;\" x=\"385.27375\" xlink:href=\"#ma644257dfe\" y=\"297.740766\"/>\r\n     <use style=\"fill:#4c4c4c;stroke:#4c4c4c;stroke-linejoin:miter;\" x=\"385.27375\" xlink:href=\"#ma644257dfe\" y=\"277.547184\"/>\r\n     <use style=\"fill:#4c4c4c;stroke:#4c4c4c;stroke-linejoin:miter;\" x=\"385.27375\" xlink:href=\"#ma644257dfe\" y=\"302.497476\"/>\r\n     <use style=\"fill:#4c4c4c;stroke:#4c4c4c;stroke-linejoin:miter;\" x=\"385.27375\" xlink:href=\"#ma644257dfe\" y=\"338.935672\"/>\r\n     <use style=\"fill:#4c4c4c;stroke:#4c4c4c;stroke-linejoin:miter;\" x=\"385.27375\" xlink:href=\"#ma644257dfe\" y=\"284.996372\"/>\r\n     <use style=\"fill:#4c4c4c;stroke:#4c4c4c;stroke-linejoin:miter;\" x=\"385.27375\" xlink:href=\"#ma644257dfe\" y=\"312.998138\"/>\r\n     <use style=\"fill:#4c4c4c;stroke:#4c4c4c;stroke-linejoin:miter;\" x=\"385.27375\" xlink:href=\"#ma644257dfe\" y=\"331.127487\"/>\r\n     <use style=\"fill:#4c4c4c;stroke:#4c4c4c;stroke-linejoin:miter;\" x=\"385.27375\" xlink:href=\"#ma644257dfe\" y=\"314.164879\"/>\r\n     <use style=\"fill:#4c4c4c;stroke:#4c4c4c;stroke-linejoin:miter;\" x=\"385.27375\" xlink:href=\"#ma644257dfe\" y=\"26.967273\"/>\r\n     <use style=\"fill:#4c4c4c;stroke:#4c4c4c;stroke-linejoin:miter;\" x=\"385.27375\" xlink:href=\"#ma644257dfe\" y=\"174.694541\"/>\r\n     <use style=\"fill:#4c4c4c;stroke:#4c4c4c;stroke-linejoin:miter;\" x=\"385.27375\" xlink:href=\"#ma644257dfe\" y=\"137.358853\"/>\r\n     <use style=\"fill:#4c4c4c;stroke:#4c4c4c;stroke-linejoin:miter;\" x=\"385.27375\" xlink:href=\"#ma644257dfe\" y=\"198.208845\"/>\r\n     <use style=\"fill:#4c4c4c;stroke:#4c4c4c;stroke-linejoin:miter;\" x=\"385.27375\" xlink:href=\"#ma644257dfe\" y=\"144.090046\"/>\r\n     <use style=\"fill:#4c4c4c;stroke:#4c4c4c;stroke-linejoin:miter;\" x=\"385.27375\" xlink:href=\"#ma644257dfe\" y=\"180.438493\"/>\r\n     <use style=\"fill:#4c4c4c;stroke:#4c4c4c;stroke-linejoin:miter;\" x=\"385.27375\" xlink:href=\"#ma644257dfe\" y=\"65.6492\"/>\r\n     <use style=\"fill:#4c4c4c;stroke:#4c4c4c;stroke-linejoin:miter;\" x=\"385.27375\" xlink:href=\"#ma644257dfe\" y=\"177.656267\"/>\r\n     <use style=\"fill:#4c4c4c;stroke:#4c4c4c;stroke-linejoin:miter;\" x=\"385.27375\" xlink:href=\"#ma644257dfe\" y=\"186.90044\"/>\r\n     <use style=\"fill:#4c4c4c;stroke:#4c4c4c;stroke-linejoin:miter;\" x=\"385.27375\" xlink:href=\"#ma644257dfe\" y=\"189.144171\"/>\r\n     <use style=\"fill:#4c4c4c;stroke:#4c4c4c;stroke-linejoin:miter;\" x=\"385.27375\" xlink:href=\"#ma644257dfe\" y=\"185.823449\"/>\r\n     <use style=\"fill:#4c4c4c;stroke:#4c4c4c;stroke-linejoin:miter;\" x=\"385.27375\" xlink:href=\"#ma644257dfe\" y=\"174.784291\"/>\r\n     <use style=\"fill:#4c4c4c;stroke:#4c4c4c;stroke-linejoin:miter;\" x=\"385.27375\" xlink:href=\"#ma644257dfe\" y=\"106.664608\"/>\r\n     <use style=\"fill:#4c4c4c;stroke:#4c4c4c;stroke-linejoin:miter;\" x=\"385.27375\" xlink:href=\"#ma644257dfe\" y=\"190.40066\"/>\r\n     <use style=\"fill:#4c4c4c;stroke:#4c4c4c;stroke-linejoin:miter;\" x=\"385.27375\" xlink:href=\"#ma644257dfe\" y=\"153.423969\"/>\r\n     <use style=\"fill:#4c4c4c;stroke:#4c4c4c;stroke-linejoin:miter;\" x=\"385.27375\" xlink:href=\"#ma644257dfe\" y=\"190.310911\"/>\r\n     <use style=\"fill:#4c4c4c;stroke:#4c4c4c;stroke-linejoin:miter;\" x=\"385.27375\" xlink:href=\"#ma644257dfe\" y=\"173.079055\"/>\r\n     <use style=\"fill:#4c4c4c;stroke:#4c4c4c;stroke-linejoin:miter;\" x=\"385.27375\" xlink:href=\"#ma644257dfe\" y=\"164.373377\"/>\r\n     <use style=\"fill:#4c4c4c;stroke:#4c4c4c;stroke-linejoin:miter;\" x=\"385.27375\" xlink:href=\"#ma644257dfe\" y=\"197.580601\"/>\r\n     <use style=\"fill:#4c4c4c;stroke:#4c4c4c;stroke-linejoin:miter;\" x=\"385.27375\" xlink:href=\"#ma644257dfe\" y=\"147.680017\"/>\r\n     <use style=\"fill:#4c4c4c;stroke:#4c4c4c;stroke-linejoin:miter;\" x=\"385.27375\" xlink:href=\"#ma644257dfe\" y=\"87.727516\"/>\r\n     <use style=\"fill:#4c4c4c;stroke:#4c4c4c;stroke-linejoin:miter;\" x=\"385.27375\" xlink:href=\"#ma644257dfe\" y=\"135.384369\"/>\r\n     <use style=\"fill:#4c4c4c;stroke:#4c4c4c;stroke-linejoin:miter;\" x=\"385.27375\" xlink:href=\"#ma644257dfe\" y=\"130.44816\"/>\r\n     <use style=\"fill:#4c4c4c;stroke:#4c4c4c;stroke-linejoin:miter;\" x=\"385.27375\" xlink:href=\"#ma644257dfe\" y=\"185.733699\"/>\r\n     <use style=\"fill:#4c4c4c;stroke:#4c4c4c;stroke-linejoin:miter;\" x=\"385.27375\" xlink:href=\"#ma644257dfe\" y=\"197.580601\"/>\r\n     <use style=\"fill:#4c4c4c;stroke:#4c4c4c;stroke-linejoin:miter;\" x=\"385.27375\" xlink:href=\"#ma644257dfe\" y=\"129.101921\"/>\r\n    </g>\r\n   </g>\r\n   <g id=\"line2d_11\">\r\n    <path clip-path=\"url(#p17f51f4aee)\" d=\"M 117.43375 233.929048 \r\nL 653.11375 233.929048 \r\n\" style=\"fill:none;stroke:#4c4c4c;stroke-linecap:round;stroke-width:1.5;\"/>\r\n   </g>\r\n   <g id=\"patch_4\">\r\n    <path d=\"M 50.47375 442.08 \r\nL 50.47375 7.2 \r\n\" style=\"fill:none;stroke:#ffffff;stroke-linecap:square;stroke-linejoin:miter;stroke-width:1.25;\"/>\r\n   </g>\r\n   <g id=\"patch_5\">\r\n    <path d=\"M 720.07375 442.08 \r\nL 720.07375 7.2 \r\n\" style=\"fill:none;stroke:#ffffff;stroke-linecap:square;stroke-linejoin:miter;stroke-width:1.25;\"/>\r\n   </g>\r\n   <g id=\"patch_6\">\r\n    <path d=\"M 50.47375 442.08 \r\nL 720.07375 442.08 \r\n\" style=\"fill:none;stroke:#ffffff;stroke-linecap:square;stroke-linejoin:miter;stroke-width:1.25;\"/>\r\n   </g>\r\n   <g id=\"patch_7\">\r\n    <path d=\"M 50.47375 7.2 \r\nL 720.07375 7.2 \r\n\" style=\"fill:none;stroke:#ffffff;stroke-linecap:square;stroke-linejoin:miter;stroke-width:1.25;\"/>\r\n   </g>\r\n  </g>\r\n </g>\r\n <defs>\r\n  <clipPath id=\"p17f51f4aee\">\r\n   <rect height=\"434.88\" width=\"669.6\" x=\"50.47375\" y=\"7.2\"/>\r\n  </clipPath>\r\n </defs>\r\n</svg>\r\n",
      "image/png": "[encoded data removed]"
     },
     "metadata": {}
    }
   ],
   "source": [
    "figsize(12,8)\n",
    "sns.boxplot(net_migration_outliers, orient=\"vertical\")"
   ]
  },
  {
   "cell_type": "code",
   "execution_count": 560,
   "metadata": {},
   "outputs": [
    {
     "output_type": "execute_result",
     "data": {
      "text/plain": "1.9249999999999998"
     },
     "metadata": {},
     "execution_count": 560
    }
   ],
   "source": [
    "#primeiro, terceiro quartis e intervalo interquartil\n",
    "quartil1, quartil3 = net_migration_outliers.quantile([.25, .75])\n",
    "iiquartil = quartil3 - quartil1\n",
    "\n",
    "iiquartil"
   ]
  },
  {
   "cell_type": "markdown",
   "metadata": {},
   "source": [
    "$[Q1 - 1.5 \\times \\text{IQR}, Q3 + 1.5 \\times \\text{IQR}]$"
   ]
  },
  {
   "cell_type": "code",
   "execution_count": 561,
   "metadata": {},
   "outputs": [
    {
     "output_type": "execute_result",
     "data": {
      "text/plain": "[-3.8149999999999995, 3.885]"
     },
     "metadata": {},
     "execution_count": 561
    }
   ],
   "source": [
    "non_outlier_interval_iqr = [quartil1 - 1.5 * iiquartil, quartil3 + 1.5 * iiquartil]\n",
    "\n",
    "non_outlier_interval_iqr"
   ]
  },
  {
   "cell_type": "code",
   "execution_count": 562,
   "metadata": {},
   "outputs": [
    {
     "output_type": "stream",
     "name": "stdout",
     "text": "Total de observacoes: 227 \nTotal de outliers: 50 \nPercentual de outliers: 0.22026431718061673 \nPrimeiros 5 outiliers abaixo do intervalo: \n1     -4.93\n3    -20.71\n7     -6.15\n9     -6.47\n13    -4.90\nName: Net_migration, dtype: float64\nPrimeiros 5 outiliers acima do intervalo: \n0     23.06\n4      6.60\n6     10.76\n11     3.98\n28    10.01\nName: Net_migration, dtype: float64\n"
    }
   ],
   "source": [
    "below_outliers_iqr = net_migration_outliers[net_migration_outliers < non_outlier_interval_iqr[0]]\n",
    "above_outliers_iqr = net_migration_outliers[net_migration_outliers > non_outlier_interval_iqr[1]]\n",
    "\n",
    "print(f\"Total de observacoes: {len(net_migration_outliers)} \" +\n",
    "        f\"\\nTotal de outliers: {len(below_outliers_iqr) + len(above_outliers_iqr)} \" +\n",
    "        f\"\\nPercentual de outliers: {(len(below_outliers_iqr) + len(above_outliers_iqr))/len(net_migration_outliers)} \" +\n",
    "        f\"\\nPrimeiros 5 outiliers abaixo do intervalo: \\n{below_outliers_iqr.head()}\" +\n",
    "        f\"\\nPrimeiros 5 outiliers acima do intervalo: \\n{above_outliers_iqr.head()}\")"
   ]
  },
  {
   "cell_type": "code",
   "execution_count": 563,
   "metadata": {},
   "outputs": [],
   "source": [
    "def q5():\n",
    "    # Retorne aqui o resultado da questão 4.\n",
    "    #Como temos 22% de outliers, precisaria de melhor analise para decidir como tratar.\n",
    "    is_removed = False\n",
    "    return (len(below_outliers_iqr), len(above_outliers_iqr), is_removed)"
   ]
  },
  {
   "cell_type": "code",
   "execution_count": 564,
   "metadata": {},
   "outputs": [
    {
     "output_type": "execute_result",
     "data": {
      "text/plain": "(24, 26, False)"
     },
     "metadata": {},
     "execution_count": 564
    }
   ],
   "source": [
    "q5()"
   ]
  },
  {
   "cell_type": "markdown",
   "metadata": {},
   "source": [
    "## Questão 6\n",
    "Para as questões 6 e 7 utilize a biblioteca `fetch_20newsgroups` de datasets de test do `sklearn`\n",
    "\n",
    "Considere carregar as seguintes categorias e o dataset `newsgroups`:\n",
    "\n",
    "```\n",
    "categories = ['sci.electronics', 'comp.graphics', 'rec.motorcycles']\n",
    "newsgroup = fetch_20newsgroups(subset=\"train\", categories=categories, shuffle=True, random_state=42)\n",
    "```\n",
    "\n",
    "\n",
    "Aplique `CountVectorizer` ao _data set_ `newsgroups` e descubra o número de vezes que a palavra _phone_ aparece no corpus. Responda como um único escalar."
   ]
  },
  {
   "cell_type": "code",
   "execution_count": 565,
   "metadata": {},
   "outputs": [],
   "source": [
    "categories = ['sci.electronics', 'comp.graphics', 'rec.motorcycles']\n",
    "newsgroups = fetch_20newsgroups(subset=\"train\", categories=categories, shuffle=True, random_state=42)\n"
   ]
  },
  {
   "cell_type": "code",
   "execution_count": 566,
   "metadata": {},
   "outputs": [
    {
     "output_type": "execute_result",
     "data": {
      "text/plain": "1773"
     },
     "metadata": {},
     "execution_count": 566
    }
   ],
   "source": [
    "#Temos um corpus com 1773 documentos\n",
    "len(newsgroups.data)"
   ]
  },
  {
   "cell_type": "code",
   "execution_count": 567,
   "metadata": {},
   "outputs": [],
   "source": [
    "#https://scikit-learn.org/stable/modules/generated/sklearn.feature_extraction.text.CountVectorizer.html\n",
    "count_vectorizer = CountVectorizer()\n",
    "newsgroups_counts = count_vectorizer.fit_transform(newsgroups.data)"
   ]
  },
  {
   "cell_type": "code",
   "execution_count": 568,
   "metadata": {},
   "outputs": [],
   "source": [
    "#Indice da palavra phone\n",
    "word_phone_idx = count_vectorizer.vocabulary_.get(\"phone\")\n",
    "\n",
    "#Ocorrencias em cada doc da palavra phone\n",
    "word_phone_in_docs = newsgroups_counts[:-1,word_phone_idx].toarray()\n"
   ]
  },
  {
   "cell_type": "code",
   "execution_count": 569,
   "metadata": {},
   "outputs": [],
   "source": [
    "def q6():\n",
    "    # Retorne aqui o resultado da questão 4.\n",
    "    return int(word_phone_in_docs.sum())"
   ]
  },
  {
   "cell_type": "code",
   "execution_count": 570,
   "metadata": {},
   "outputs": [
    {
     "output_type": "execute_result",
     "data": {
      "text/plain": "213"
     },
     "metadata": {},
     "execution_count": 570
    }
   ],
   "source": [
    "q6()"
   ]
  },
  {
   "cell_type": "markdown",
   "metadata": {},
   "source": [
    "## Questão 7\n",
    "\n",
    "Aplique `TfidfVectorizer` ao _data set_ `newsgroups` e descubra o TF-IDF da palavra _phone_. Responda como um único escalar arredondado para três casas decimais."
   ]
  },
  {
   "cell_type": "code",
   "execution_count": 571,
   "metadata": {},
   "outputs": [],
   "source": [
    "#https://scikit-learn.org/stable/modules/generated/sklearn.feature_extraction.text.TfidfVectorizer.html?highlight=tfidfvectorizer#sklearn.feature_extraction.text.TfidfVectorizer\n",
    "tfidf_vectorizer = TfidfVectorizer()\n",
    "\n",
    "tfidf_vectorizer.fit(newsgroups.data)\n",
    "\n",
    "newsgroups_tfidf_vectorized = tfidf_vectorizer.transform(newsgroups.data)"
   ]
  },
  {
   "cell_type": "code",
   "execution_count": 572,
   "metadata": {},
   "outputs": [
    {
     "output_type": "execute_result",
     "data": {
      "text/plain": "(1773, 27335)"
     },
     "metadata": {},
     "execution_count": 572
    }
   ],
   "source": [
    "newsgroups_tfidf_vectorized.shape"
   ]
  },
  {
   "cell_type": "code",
   "execution_count": 573,
   "metadata": {},
   "outputs": [
    {
     "output_type": "execute_result",
     "data": {
      "text/plain": "array([0.04775188, 0.00387763, 0.07723967, 0.00724607, 0.04162627,\n       0.06186971, 0.0350805 , 0.0835253 , 0.13012646, 0.05044347,\n       0.01452529, 0.05122927, 0.04225538, 0.06304736, 0.11814736,\n       0.05252885, 0.03815937, 0.1088122 , 0.02752203, 0.06703449,\n       0.12029719, 0.04350333, 0.0384643 , 0.04996341, 0.05317607,\n       0.04728803, 0.03437362, 0.00174801, 0.04529911, 0.03531909,\n       0.04878507, 0.05004579, 0.04873896, 0.02394753, 0.05963916,\n       0.04922375, 0.04814832, 0.06085037, 0.01869935, 0.0717038 ,\n       0.19349199, 0.10752487, 0.08157105, 0.05032966, 0.17174743,\n       0.03065641, 0.04072631, 0.05924823, 0.05221795, 0.02150047,\n       0.03487459, 0.13401643, 0.05659139, 0.03827344, 0.13871399,\n       0.04986374, 0.03747078, 0.08472028, 0.05398709, 0.04785823,\n       0.06121596, 0.02328826, 0.00961329, 0.16946099, 0.06539912,\n       0.19345873, 0.03516577, 0.02475824, 0.06148624, 0.03533376,\n       0.06144452, 0.05392415, 0.0788657 , 0.04591934, 0.06057951,\n       0.02431972, 0.05810168, 0.05136062, 0.02559806, 0.04770604,\n       0.0459636 , 0.04504289, 0.02057425, 0.04197024, 0.03957484,\n       0.00735515, 0.05386231, 0.03562341, 0.04924866, 0.3027085 ,\n       0.09569769, 0.04851205, 0.03255363, 0.05649748, 0.0385376 ,\n       0.23340806, 0.04276999, 0.05009673, 0.00177405, 0.05081434,\n       0.21842852, 0.04269716, 0.0569877 , 0.0580433 , 0.22629595,\n       0.04878079, 0.05037723, 0.02792526, 0.10998536, 0.04637596,\n       0.05311321, 0.03966621, 0.04189911, 0.04575507, 0.03378545,\n       0.04052978, 0.07203593, 0.01949528, 0.03325748, 0.15220892,\n       0.04673179, 0.043748  , 0.05870256, 0.13293697, 0.06415781,\n       0.05317576, 0.04569434, 0.08168395, 0.10619123, 0.06045121,\n       0.01848257, 0.04481355, 0.03516574, 0.27674612, 0.05010135,\n       0.05371156, 0.03897667, 0.0395804 , 0.02579213, 0.03122323,\n       0.04864123, 0.0312438 , 0.04591799])"
     },
     "metadata": {},
     "execution_count": 573
    }
   ],
   "source": [
    "phone_tfidf = newsgroups_tfidf_vectorized[:, word_phone_idx].toarray()\n",
    "phone_tfidf[phone_tfidf > 0]"
   ]
  },
  {
   "cell_type": "code",
   "execution_count": 574,
   "metadata": {},
   "outputs": [
    {
     "output_type": "execute_result",
     "data": {
      "text/plain": "      phone\n0       0.0\n1       0.0\n2       0.0\n3       0.0\n4       0.0\n...     ...\n1768    0.0\n1769    0.0\n1770    0.0\n1771    0.0\n1772    0.0\n\n[1773 rows x 1 columns]",
      "text/html": "<div>\n<style scoped>\n    .dataframe tbody tr th:only-of-type {\n        vertical-align: middle;\n    }\n\n    .dataframe tbody tr th {\n        vertical-align: top;\n    }\n\n    .dataframe thead th {\n        text-align: right;\n    }\n</style>\n<table border=\"1\" class=\"dataframe\">\n  <thead>\n    <tr style=\"text-align: right;\">\n      <th></th>\n      <th>phone</th>\n    </tr>\n  </thead>\n  <tbody>\n    <tr>\n      <th>0</th>\n      <td>0.0</td>\n    </tr>\n    <tr>\n      <th>1</th>\n      <td>0.0</td>\n    </tr>\n    <tr>\n      <th>2</th>\n      <td>0.0</td>\n    </tr>\n    <tr>\n      <th>3</th>\n      <td>0.0</td>\n    </tr>\n    <tr>\n      <th>4</th>\n      <td>0.0</td>\n    </tr>\n    <tr>\n      <th>...</th>\n      <td>...</td>\n    </tr>\n    <tr>\n      <th>1768</th>\n      <td>0.0</td>\n    </tr>\n    <tr>\n      <th>1769</th>\n      <td>0.0</td>\n    </tr>\n    <tr>\n      <th>1770</th>\n      <td>0.0</td>\n    </tr>\n    <tr>\n      <th>1771</th>\n      <td>0.0</td>\n    </tr>\n    <tr>\n      <th>1772</th>\n      <td>0.0</td>\n    </tr>\n  </tbody>\n</table>\n<p>1773 rows × 1 columns</p>\n</div>"
     },
     "metadata": {},
     "execution_count": 574
    }
   ],
   "source": [
    "pd.DataFrame(phone_tfidf, columns=[(tfidf_vectorizer.get_feature_names())[word_phone_idx]])"
   ]
  },
  {
   "cell_type": "code",
   "execution_count": 575,
   "metadata": {},
   "outputs": [],
   "source": [
    "def q7():\n",
    "    # Retorne aqui o resultado da questão 4.\n",
    "    return float(round(phone_tfidf.sum(),3))"
   ]
  },
  {
   "cell_type": "code",
   "execution_count": 576,
   "metadata": {},
   "outputs": [
    {
     "output_type": "execute_result",
     "data": {
      "text/plain": "8.888"
     },
     "metadata": {},
     "execution_count": 576
    }
   ],
   "source": [
    "q7()"
   ]
  }
 ],
 "metadata": {
  "kernelspec": {
   "display_name": "Python 3.8.2 64-bit ('aceleradev_ds': conda)",
   "language": "python",
   "name": "python38264bitaceleradevdsconda01bd049e33614b0e90c28f33c799270a"
  },
  "language_info": {
   "codemirror_mode": {
    "name": "ipython",
    "version": 3
   },
   "file_extension": ".py",
   "mimetype": "text/x-python",
   "name": "python",
   "nbconvert_exporter": "python",
   "pygments_lexer": "ipython3",
   "version": "3.8.2-final"
  }
 },
 "nbformat": 4,
 "nbformat_minor": 2
}